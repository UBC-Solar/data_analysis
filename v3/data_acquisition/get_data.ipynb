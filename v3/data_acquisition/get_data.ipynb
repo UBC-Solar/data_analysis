{
 "cells": [
  {
   "cell_type": "code",
   "execution_count": 11,
   "metadata": {
    "collapsed": true
   },
   "outputs": [
    {
     "name": "stdout",
     "output_type": "stream",
     "text": [
      "Creating client with API Token: Hgnv70HqoniXv8D5S9rS-4jLIfhG4QlneuR4igLx31MOAB7aPo6NmzLAejbhDtDnBdSU2GQXmoNgfKpoJcqjnA==\n",
      "Creating client with Org: 8a0b66d77a331e96\n"
     ]
    }
   ],
   "source": [
    "from data_tools import DBClient, FluxQuery\n",
    "import pathlib\n",
    "import os\n",
    "import pickle\n",
    "import pandas as pd\n",
    "from datetime import datetime, timezone\n",
    "\n",
    "client = DBClient()"
   ]
  },
  {
   "cell_type": "code",
   "execution_count": 9,
   "outputs": [],
   "source": [
    "things_of_interest = [\"VehicleVelocity\", \"AcceleratorPosition\", \"BatteryCurrent\", \"BatteryVoltage\", \"BatteryCurrentDirection\", \"MechBrakePressed\"]\n",
    "\n",
    "path = \"/Users/joshuariefman/Solar/data_analysis/data_acquisition\"\n",
    "if not os.path.isdir(\"/Users/joshuariefman/Solar/data_analysis/data_acquisition\"):\n",
    "    path = input(\"Please enter path:\")\n",
    "\n",
    "folder = pathlib.Path(path)\n",
    "del path\n",
    "\n",
    "try:\n",
    "    os.mkdir(folder / \"csv\")\n",
    "except FileExistsError:\n",
    "    pass\n",
    "\n",
    "try:\n",
    "    os.mkdir(folder / \"pd\")\n",
    "except FileExistsError:\n",
    "    pass\n",
    "\n",
    "try:\n",
    "    os.mkdir(folder / \"ts\")\n",
    "except FileExistsError:\n",
    "    pass\n",
    "\n",
    "start_time = datetime(2024, 7, 15, 8, 0, 0, tzinfo=timezone.utc)\n",
    "end_time = datetime(2024, 7, 21, 00, 0, 0, tzinfo=timezone.utc)"
   ],
   "metadata": {
    "collapsed": false
   }
  },
  {
   "cell_type": "code",
   "execution_count": 14,
   "outputs": [],
   "source": [
    "for thing_of_interest in things_of_interest:\n",
    "    data_df = client.query_dataframe(FluxQuery().range(start_time.isoformat(), end_time.isoformat()).filter(field=thing_of_interest).from_bucket(\"CAN_log\"))\n",
    "    data_df['_time'] = pd.to_datetime(data_df['_time'])\n",
    "    data_df.set_index('_time', inplace=True)\n",
    "\n",
    "    data_df[thing_of_interest].to_csv(folder / \"csv\" / f\"{thing_of_interest}.csv\")\n",
    "    data_df[thing_of_interest].to_pickle(folder / \"pd\" / f\"{thing_of_interest}.pkl\")\n",
    "\n",
    "    data_ts = client.query_time_series(start_time, end_time, field=thing_of_interest)\n",
    "    with open(folder / \"ts\" / f\"{thing_of_interest}.pkl\", \"wb\") as f:\n",
    "        pickle.dump(data_ts, f, protocol=pickle.HIGHEST_PROTOCOL)"
   ],
   "metadata": {
    "collapsed": false
   }
  },
  {
   "cell_type": "code",
   "execution_count": null,
   "outputs": [],
   "source": [],
   "metadata": {
    "collapsed": false
   }
  }
 ],
 "metadata": {
  "kernelspec": {
   "name": "stg-data-analysis",
   "language": "python",
   "display_name": "stg-data-analysis"
  },
  "language_info": {
   "codemirror_mode": {
    "name": "ipython",
    "version": 2
   },
   "file_extension": ".py",
   "mimetype": "text/x-python",
   "name": "python",
   "nbconvert_exporter": "python",
   "pygments_lexer": "ipython2",
   "version": "2.7.6"
  }
 },
 "nbformat": 4,
 "nbformat_minor": 0
}
