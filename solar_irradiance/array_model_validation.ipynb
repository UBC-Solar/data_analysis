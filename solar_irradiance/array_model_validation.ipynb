{
 "cells": [
  {
   "metadata": {},
   "cell_type": "markdown",
   "source": [
    "# Array Model Validation\n",
    "\n",
    "In this notebook, we compare (retroactively) predicted vs actual power for FSGP 2024 using our simplistic Hardware Array Model.\n",
    "\n",
    "We use historical irradiance data provided by open-meteo as the ground truth for irradiance values, and telemetry current and voltage data as a ground truth for received electrical power. Note that both of these reference points have some inaccuracy: historical irradiance data is imperfect and not perfectly localized, and our array current sensors are known to somewhat inaccurate (though I do not know exactly in what way this is the case).\n",
    "\n"
   ],
   "id": "b9d3cc37e08a3708"
  },
  {
   "metadata": {},
   "cell_type": "code",
   "outputs": [],
   "execution_count": null,
   "source": "",
   "id": "4f15e28d4d39c78"
  }
 ],
 "metadata": {
  "kernelspec": {
   "display_name": "Python 3",
   "language": "python",
   "name": "python3"
  },
  "language_info": {
   "codemirror_mode": {
    "name": "ipython",
    "version": 2
   },
   "file_extension": ".py",
   "mimetype": "text/x-python",
   "name": "python",
   "nbconvert_exporter": "python",
   "pygments_lexer": "ipython2",
   "version": "2.7.6"
  }
 },
 "nbformat": 4,
 "nbformat_minor": 5
}
