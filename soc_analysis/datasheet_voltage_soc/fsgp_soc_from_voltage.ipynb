{
 "cells": [
  {
   "metadata": {},
   "cell_type": "markdown",
   "source": [
    "# FSGP 2024 SOC from voltage using cell datasheet\n",
    "\n",
    "Using the functions in `soc_from_voltage.py`, we can now estimate the state of charge at points during FSGP 2024. This method for estimating SOC is relatively crude since it doesn't account for the way the battery reacts to being charged or discharged at different rates. This method works best if the datasheet voltage is accurate, (and that we are close to the 2A curve provided), and when the battery is in a 'relaxed' state, so we can read its equilibrium voltage.\n",
    "\n",
    "To use the cell data to estimate the SOC during the race, we need to get a best guess as to what the relaxed battery voltage would be. To do this, I take a windowed maximum of the voltage across the battery, which is likely to represent a point in time where there is not much current being drawn. This is still not very accurate because in reality the battery needs more time to relax. The most relevant real application of this method for estimating SOC is to get a quick estimate of how much energy remains during race down-time, such as at the end of the race day."
   ],
   "id": "2829d2f539bdc3ef"
  },
  {
   "cell_type": "code",
   "id": "initial_id",
   "metadata": {
    "collapsed": true,
    "ExecuteTime": {
     "end_time": "2024-10-05T23:51:07.371682Z",
     "start_time": "2024-10-05T23:51:00.212097Z"
    }
   },
   "source": [
    "from data_tools import InfluxClient\n",
    "\n",
    "from soc_from_voltage import (cell_soc_from_voltage,\n",
    "                              cell_wh_from_voltage,\n",
    "                              MAX_CELL_ENERGY,\n",
    "                              MIN_CELL_VOLTAGE,\n",
    "                              MAX_CELL_VOLTAGE)\n",
    "\n",
    "import numpy as np\n",
    "import matplotlib.pyplot as plt\n",
    "from data_tools.fsgp_2024_laps import FSGPDayLaps\n",
    "\n",
    "laps_3 = FSGPDayLaps(3)\n",
    "day_3_start = laps_3.get_start_utc(1)\n",
    "day_3_stop = laps_3.get_finish_utc(laps_3.get_lap_count())\n",
    "\n",
    "client = InfluxClient()\n",
    "\n",
    "day_3_minimum_module = client.query_time_series(day_3_start, day_3_stop, \"VoltageOfLeast\")\n",
    "day_3_pack_voltage = client.query_time_series(day_3_start, day_3_stop, \"TotalPackVoltage\")\n",
    "\n",
    "plt.plot(day_3_minimum_module)\n",
    "plt.xlabel('Time')\n",
    "plt.ylabel('Voltage')\n",
    "plt.title('Day 3, Min. Module Voltage')\n",
    "plt.show()\n",
    "\n",
    "plt.plot(day_3_pack_voltage)\n",
    "plt.xlabel('Time')\n",
    "plt.ylabel('Voltage')\n",
    "plt.title('Day 3, Total Pack Voltage')\n",
    "plt.show()"
   ],
   "outputs": [
    {
     "ename": "ImportError",
     "evalue": "cannot import name 'InfluxClient' from 'data_tools' (C:\\Users\\Jonah\\Documents\\UBCSolar\\2025\\data_analysis\\venv\\Lib\\site-packages\\data_tools\\__init__.py)",
     "output_type": "error",
     "traceback": [
      "\u001B[1;31m---------------------------------------------------------------------------\u001B[0m",
      "\u001B[1;31mImportError\u001B[0m                               Traceback (most recent call last)",
      "Cell \u001B[1;32mIn[2], line 1\u001B[0m\n\u001B[1;32m----> 1\u001B[0m \u001B[38;5;28;01mfrom\u001B[39;00m \u001B[38;5;21;01mdata_tools\u001B[39;00m \u001B[38;5;28;01mimport\u001B[39;00m InfluxClient\n\u001B[0;32m      3\u001B[0m \u001B[38;5;28;01mfrom\u001B[39;00m \u001B[38;5;21;01msoc_from_voltage\u001B[39;00m \u001B[38;5;28;01mimport\u001B[39;00m (cell_soc_from_voltage,\n\u001B[0;32m      4\u001B[0m                               cell_wh_from_voltage,\n\u001B[0;32m      5\u001B[0m                               MAX_CELL_ENERGY,\n\u001B[0;32m      6\u001B[0m                               MIN_CELL_VOLTAGE,\n\u001B[0;32m      7\u001B[0m                               MAX_CELL_VOLTAGE)\n\u001B[0;32m      9\u001B[0m \u001B[38;5;28;01mimport\u001B[39;00m \u001B[38;5;21;01mnumpy\u001B[39;00m \u001B[38;5;28;01mas\u001B[39;00m \u001B[38;5;21;01mnp\u001B[39;00m\n",
      "\u001B[1;31mImportError\u001B[0m: cannot import name 'InfluxClient' from 'data_tools' (C:\\Users\\Jonah\\Documents\\UBCSolar\\2025\\data_analysis\\venv\\Lib\\site-packages\\data_tools\\__init__.py)"
     ]
    }
   ],
   "execution_count": 2
  },
  {
   "metadata": {},
   "cell_type": "code",
   "outputs": [],
   "execution_count": null,
   "source": "",
   "id": "33846ada5fbdbdae"
  }
 ],
 "metadata": {
  "kernelspec": {
   "display_name": "Python 3",
   "language": "python",
   "name": "python3"
  },
  "language_info": {
   "codemirror_mode": {
    "name": "ipython",
    "version": 2
   },
   "file_extension": ".py",
   "mimetype": "text/x-python",
   "name": "python",
   "nbconvert_exporter": "python",
   "pygments_lexer": "ipython2",
   "version": "2.7.6"
  }
 },
 "nbformat": 4,
 "nbformat_minor": 5
}
