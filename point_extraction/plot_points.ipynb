{
 "cells": [
  {
   "cell_type": "markdown",
   "source": [
    "# Plot Points\n",
    "\n",
    "The goal of this notebook is to simplify a workflow of getting points off of a datasheet for any purpose (regression, for example).\n",
    "\n",
    "To do this, we will use an interactive `matplotlib` session where you will click on the plot to place points which will be translated from local positions on the image to values using information about the axes that you will provide.\n",
    "\n",
    "Run this block to acquire the necessary imports. We also specify `matplotlib` to use a backend that is capable of doing what we need, which is not the default when using Jupyter Notebooks."
   ],
   "metadata": {
    "collapsed": false
   }
  },
  {
   "cell_type": "code",
   "source": [
    "import matplotlib\n",
    "matplotlib.use('TkAgg')\n",
    "import matplotlib.pyplot as plt"
   ],
   "metadata": {
    "collapsed": false,
    "ExecuteTime": {
     "end_time": "2025-04-28T19:11:36.448753Z",
     "start_time": "2025-04-28T19:11:35.977575Z"
    }
   },
   "outputs": [],
   "execution_count": 1
  },
  {
   "cell_type": "markdown",
   "source": [
    "In order for this program to translate from the positions of the points in abstract local space on the image to the real values we want out of the datasheet, we need to provide information to perform this translation.\n",
    "When you begin the interactive session, the first step will be to place three points. The first should go at the origin, the second at the top of the $y$–axis, and the third at the rightmost (end) of the $x$–axis. Hopefully it is evident how these points will be used as reference points for the data points you place afterwards. Nonetheless, to use those points to translate between local positions on the image to actual values, you'll also need to provide information about what values are represented at each point on each axis.\n",
    "\n",
    "For example, if I had a datasheet where I had a graph of time vs position, the $x$–axis may be time between $0s$ and $10s$, and the $y$–axis may be position between $10m$ and $100m$. Thus, I'd put a point at the origin $(0, 10)$, then at the top of the $y$–axis at $(0, 100)$ and then at the end of the $x$–axis at $(10, 10)$. Before that, I would've set `x_begin=0`, `x_end=10`, `y_begin=10`, and `y_end=100`.\n",
    "\n",
    "You'll also need to set the following environment variables.\n",
    "1. `path`: the relative path from this directory to your image.\n",
    "2. `num_points`: the number of points that you'd like to extract (excluding the guide points)"
   ],
   "metadata": {
    "collapsed": false
   }
  },
  {
   "cell_type": "code",
   "source": [
    "# -- ALL OF THESE MUST BE SET FOR DATA TO BE MEANINGFUL --\n",
    "path: str = '/Users/joshuariefman/Solar/data_analysis/data/battery_datasheet.png'\n",
    "num_points: int = 40\n",
    "x_begin: float = 0.0\n",
    "x_end: float = 3500.0\n",
    "y_begin: float = 2.0\n",
    "y_end: float = 4.5"
   ],
   "metadata": {
    "collapsed": false,
    "ExecuteTime": {
     "end_time": "2025-04-28T19:11:46.358975Z",
     "start_time": "2025-04-28T19:11:46.353141Z"
    }
   },
   "outputs": [],
   "execution_count": 2
  },
  {
   "cell_type": "markdown",
   "source": [
    "> Make sure that you actually ran the block above after setting the variables, or they won't actually be loaded in the environment!\n",
    "\n",
    "Finally, run the block below to begin the interactive session. Remember to place the three guide points first, and then place up to `num_points` points on the plot wherever you'd like to extract them.\n",
    "Close the window whenever you're done, and the points will be ready when you come back to this notebook."
   ],
   "metadata": {
    "collapsed": false
   }
  },
  {
   "cell_type": "code",
   "source": [
    "img = plt.imread(path)\n",
    "plt.imshow(img)\n",
    "plt.axis('off')\n",
    "\n",
    "Point = list[float, float]\n",
    "# Allow interactive point selection\n",
    "points: list[Point] = plt.ginput(n=num_points + 3, show_clicks=True, timeout=10000)\n",
    "\n",
    "# Display selected points\n",
    "for point in points:\n",
    "    plt.plot(point[0], point[1], 'ro')  # Plot selected points as red dots\n",
    "\n",
    "# Show the plot\n",
    "plt.show()"
   ],
   "metadata": {
    "collapsed": false,
    "ExecuteTime": {
     "end_time": "2025-04-28T19:14:48.067690Z",
     "start_time": "2025-04-28T19:13:00.841988Z"
    }
   },
   "outputs": [],
   "execution_count": 4
  },
  {
   "cell_type": "markdown",
   "source": [
    "Next, run the block below to translate the points in raw local space to the real values using the information you provided."
   ],
   "metadata": {
    "collapsed": false
   }
  },
  {
   "cell_type": "markdown",
   "source": [],
   "metadata": {
    "collapsed": false
   }
  },
  {
   "cell_type": "code",
   "metadata": {
    "collapsed": true,
    "ExecuteTime": {
     "end_time": "2025-04-28T19:15:22.223350Z",
     "start_time": "2025-04-28T19:15:22.215616Z"
    }
   },
   "source": [
    "# Assign guide points\n",
    "origin_point: Point = points[0]\n",
    "y_top: Point = points[1]\n",
    "x_right: Point = points[2]\n",
    "\n",
    "# Get ranges\n",
    "y_range_real: float = y_end - y_begin\n",
    "x_range_real: float = x_end - x_begin\n",
    "\n",
    "x_range_local: float = x_right[0] - origin_point[0]\n",
    "y_range_local: float = y_top[1] - origin_point[1]\n",
    "\n",
    "# Get conversion factors\n",
    "x_local_to_real: float = x_range_real / x_range_local\n",
    "y_local_to_real: float = y_range_real / y_range_local\n",
    "\n",
    "real_points: list[Point] = []\n",
    "\n",
    "for point in points:\n",
    "    # Translate\n",
    "    real_x: float = point[0] - origin_point[0]\n",
    "    real_y: float = point[1] - origin_point[1]\n",
    "\n",
    "    # Scale\n",
    "    real_x *= x_local_to_real\n",
    "    real_y *= y_local_to_real\n",
    "\n",
    "    # Localize\n",
    "    real_x += x_begin\n",
    "    real_y += y_begin\n",
    "\n",
    "    real_points.append([float(real_x), float(real_y)])\n",
    "\n",
    "# Output result\n",
    "print(real_points)"
   ],
   "outputs": [
    {
     "name": "stdout",
     "output_type": "stream",
     "text": [
      "[[0.0, 2.0], [-4.7361299052773385, 4.5], [3500.0, 1.9940047961630696], [0.0, 4.170263788968825], [52.09742895805148, 4.134292565947242], [156.29228687415406, 4.086330935251798], [265.22327469553437, 4.062350119904076], [374.1542625169147, 4.0503597122302155], [492.55751014884964, 4.014388489208633], [606.2246278755073, 3.9904076738609113], [729.36400541272, 3.936450839328537], [857.2395128552096, 3.8944844124700237], [1013.531799729364, 3.8465227817745804], [1141.4073071718537, 3.8045563549160675], [1278.7550744248983, 3.7625899280575537], [1435.047361299053, 3.7386091127098324], [1615.020297699594, 3.6726618705035974], [1747.6319350473614, 3.6306954436450845], [1927.6048714479025, 3.57673860911271], [2102.8416779431664, 3.522781774580336], [2297.02300405954, 3.4808153477218227], [2472.259810554804, 3.456834532374101], [2642.7604871447907, 3.402877697841727], [2770.63599458728, 3.3609112709832134], [2917.45602165088, 3.3009592326139092], [3040.595399188092, 3.199040767386091], [3130.5818673883623, 3.0731414868105515], [3187.4154262516913, 2.9892086330935252], [3230.040595399188, 2.881294964028777], [3272.665764546685, 2.773381294964029], [3310.5548037889043, 2.65947242206235], [3334.235453315291, 2.5815347721822546], [3348.443843031123, 2.5035971223021583]]\n"
     ]
    }
   ],
   "execution_count": 6
  },
  {
   "cell_type": "markdown",
   "source": [
    "You may find it suitable to customize the output style for your use case."
   ],
   "metadata": {
    "collapsed": false
   }
  }
 ],
 "metadata": {
  "kernelspec": {
   "display_name": "Python 3",
   "language": "python",
   "name": "python3"
  },
  "language_info": {
   "codemirror_mode": {
    "name": "ipython",
    "version": 2
   },
   "file_extension": ".py",
   "mimetype": "text/x-python",
   "name": "python",
   "nbconvert_exporter": "python",
   "pygments_lexer": "ipython2",
   "version": "2.7.6"
  }
 },
 "nbformat": 4,
 "nbformat_minor": 0
}
