{
 "cells": [
  {
   "metadata": {},
   "cell_type": "markdown",
   "source": [
    "# Lap Efficiency Correlation Report\n",
    "\n",
    "Date: November 21, 2024\n",
    "\n",
    "Authors: Tamzeed Quazi, Jonah Lee\n",
    "\n",
    "### Overview\n",
    "\n",
    "Following our participation in the Formula Sun Grand Prix in July 2024, we present an analysis the factors correlating to our efficiency throughout the race.\n",
    "\n",
    "Our primary metric for efficiency is **lap energy**, which has units of Joules and describes the net (i.e. accounting for regen) electrical power consumed by the motor during one lap at the 5.07km NCM Motorsports Park track.\n",
    "\n"
   ],
   "id": "3fadcc9fbe72dbba"
  },
  {
   "metadata": {},
   "cell_type": "markdown",
   "source": "### Imports",
   "id": "32279d1337c5b887"
  },
  {
   "metadata": {},
   "cell_type": "code",
   "outputs": [],
   "execution_count": null,
   "source": "",
   "id": "6d3d7a3c2cef7c39"
  },
  {
   "metadata": {},
   "cell_type": "markdown",
   "source": [
    "### Load Data\n",
    "\n",
    "See [add link here](./link_to_local_file) for querying and derivation of data. Since this querying requires a connection to our UBC Solar Tailnet and takes a few minutes, we have stored our derived data for this analysis in a csv file \\[link?\\]."
   ],
   "id": "721b4d68d6efc680"
  },
  {
   "metadata": {},
   "cell_type": "code",
   "outputs": [],
   "execution_count": null,
   "source": "",
   "id": "239ed0091983dd3d"
  },
  {
   "metadata": {},
   "cell_type": "markdown",
   "source": [
    "### Results\n",
    "\n",
    "Insert lots o' plots below"
   ],
   "id": "918bd1672c1495b3"
  },
  {
   "metadata": {},
   "cell_type": "code",
   "outputs": [],
   "execution_count": null,
   "source": "",
   "id": "82d18918c4901136"
  }
 ],
 "metadata": {
  "kernelspec": {
   "display_name": "Python 3",
   "language": "python",
   "name": "python3"
  },
  "language_info": {
   "codemirror_mode": {
    "name": "ipython",
    "version": 2
   },
   "file_extension": ".py",
   "mimetype": "text/x-python",
   "name": "python",
   "nbconvert_exporter": "python",
   "pygments_lexer": "ipython2",
   "version": "2.7.6"
  }
 },
 "nbformat": 4,
 "nbformat_minor": 5
}
