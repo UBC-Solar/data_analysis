{
 "cells": [
  {
   "metadata": {},
   "cell_type": "markdown",
   "source": [
    "# Motor Testing April 6th\n",
    "\n",
    "On April 6th 2025, we took Brightside out for driving/testing for the first time since FSGP 2024.\n",
    "\n",
    "Due to the rain, tests were conducted in the undercover parking lot nearest to EDC. While we spent most of the testing time debugging, we were able to conduct a small number of test drives.\n",
    "\n",
    "See https://docs.google.com/document/d/1Rx3J4bNzHDbjxchzbmqbx4wmzVHT7njctfJhgrXQq_g/edit for complete details."
   ],
   "id": "cc2ec1b499ad4706"
  },
  {
   "metadata": {},
   "cell_type": "markdown",
   "source": [
    "## Cruising Test\n",
    "\n",
    "We conducted a very brief cruising test at 2:59PM in which we got Chris to floor the accelerator, then release it and finally brake when necessary (the parking lot is not very long).\n",
    "\n",
    "This test was conducted under our [Cruising Test Plan](https://docs.google.com/document/d/1nRl-FxTlJjzzBGooMMIHlvJZYS2zg53nI7BmjzIfTFw/edit?tab=t.0#heading=h.x81rs6u2klim). See all STG's plans [here](https://drive.google.com/drive/u/1/folders/1l5ZTJP1LZwLBvmLuFI7MEXHikJNSyDR0).\n",
    "\n",
    "Video: https://drive.google.com/file/d/1kIt3Dud8n91xUy1W2zfV0xKJm5OHyfYW/view?usp=drive_link\n"
   ],
   "id": "491702a35e083e77"
  },
  {
   "metadata": {},
   "cell_type": "markdown",
   "source": [
    "### 1. Query Data From Influx\n",
    "\n",
    "Thanks to Aarjav for quickly uploading the Memorator data to InfluxDB on the elec bay computer."
   ],
   "id": "c635bd2834170ed8"
  },
  {
   "metadata": {},
   "cell_type": "code",
   "outputs": [],
   "execution_count": null,
   "source": "",
   "id": "6c631bc7508e32bb"
  }
 ],
 "metadata": {
  "kernelspec": {
   "display_name": "Python 3",
   "language": "python",
   "name": "python3"
  },
  "language_info": {
   "codemirror_mode": {
    "name": "ipython",
    "version": 2
   },
   "file_extension": ".py",
   "mimetype": "text/x-python",
   "name": "python",
   "nbconvert_exporter": "python",
   "pygments_lexer": "ipython2",
   "version": "2.7.6"
  }
 },
 "nbformat": 4,
 "nbformat_minor": 5
}
