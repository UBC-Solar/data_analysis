{
 "cells": [
  {
   "cell_type": "markdown",
   "id": "3921ea0f-4973-4514-8079-bf27e718b595",
   "metadata": {},
   "source": [
    "# Locate FSGP Data"
   ]
  },
  {
   "cell_type": "markdown",
   "id": "bead5e6c-713f-469a-a898-8153fc238802",
   "metadata": {},
   "source": [
    "## Objective\n",
    "\n",
    "We want to use the velocity and lap time data from FSGP 2024 to estimate Brightside's position at every point in time."
   ]
  },
  {
   "cell_type": "markdown",
   "id": "b76fa5bf-0d37-45fd-8763-55dbca3c3f80",
   "metadata": {},
   "source": [
    "## Creating Client"
   ]
  },
  {
   "cell_type": "code",
   "execution_count": 6,
   "id": "initial_id",
   "metadata": {
    "ExecuteTime": {
     "end_time": "2024-10-12T18:46:56.591209Z",
     "start_time": "2024-10-12T18:46:56.548086Z"
    }
   },
   "outputs": [
    {
     "name": "stdout",
     "output_type": "stream",
     "text": [
      "Creating client with API Token: s4Z9_S6_O09kDzYn1KZcs7LVoCA2cVK9_ObY44vR4xMh-wYLSWBkypS0S0ZHQgBvEV2A5LgvQ1IKr8byHes2LA==\n",
      "Creating client with Org: 8a0b66d77a331e96\n"
     ]
    }
   ],
   "source": [
    "from data_tools.collections.time_series import TimeSeries\n",
    "from data_tools.query.influxdb_query import DBClient\n",
    "# from data_tools.query.postgresql_query import PostgresClient\n",
    "from datetime import datetime, timezone\n",
    "\n",
    "import numpy as np\n",
    "import matplotlib.pyplot as plt\n",
    "\n",
    "client = DBClient()\n",
    "#client = PostgresClient(\"can_log_prod\", \"100.120.36.75\", \"admin\", \"new_password\")\n",
    "\n",
    "# DAY 3 LAPS 29-39 have nothing, 40-41 are good"
   ]
  },
  {
   "cell_type": "markdown",
   "id": "48ee1345-54ef-4fb7-8899-257d1379f0dc",
   "metadata": {},
   "source": [
    "## Functions Used"
   ]
  },
  {
   "cell_type": "markdown",
   "id": "fc4fc27f-0094-4bef-a154-3f537d258925",
   "metadata": {},
   "source": [
    "### Original - Before Optimizing"
   ]
  },
  {
   "cell_type": "code",
   "execution_count": 7,
   "id": "89ae7916-bbf7-4bbf-bd07-356b040f171d",
   "metadata": {},
   "outputs": [],
   "source": [
    "from scipy import integrate as intg\n",
    "\n",
    "def plot_vehicle_velocity(vel: TimeSeries, test_lap: int):\n",
    "    plt.plot(vel)\n",
    "    plt.title(f\"Vehicle velocity in lap {test_lap}\")\n",
    "    plt.xlabel(\"Time [s]\")\n",
    "    plt.ylabel(\"Speed [ms^-1]\")\n",
    "    plt.show()\n",
    "\n",
    "def distance_covered(vel: TimeSeries, expected: int = 3.2, save = False):\n",
    "    dist_m = intg.simpson(vel) # integrate to find distance in m\n",
    "    distance_mi = dist_m/(1609.344) # convert to miles\n",
    "    if save:\n",
    "        return distance_mi\n",
    "    else:\n",
    "        print(f\"Distance is {distance_mi:.2f} mi. Expected is 3.2 mi.\")\n",
    "        print(f\"Difference with expected is {distance_mi-3.2:.4f} mi\")\n",
    "\n",
    "def distance_covered_lap(lap_num: int, save = False):\n",
    "    start = day.get_start_utc(lap_num)\n",
    "    stop = day.get_finish_utc(lap_num)\n",
    "    start_time = datetime.strptime(start, \"%Y-%m-%dT%H:%M:%SZ\").replace(tzinfo=timezone.utc)\n",
    "    end_time = datetime.strptime(stop, \"%Y-%m-%dT%H:%M:%SZ\").replace(tzinfo=timezone.utc)\n",
    "    vel: TimeSeries = client.query_time_series(start_time, end_time, \"VehicleVelocity\", granularity = 1,  units=\"m/s\")\n",
    "    dist_m = intg.simpson(vel)\n",
    "    distance_mi = dist_m/1609.344\n",
    "    if save:\n",
    "        return dist_m\n",
    "    else:\n",
    "        print(f\"Distance is {dist_m:.2f} mi. Expected is 3.2 mi.\")\n",
    "\n",
    "def distance_so_far(start: str, stop: str, save = False):\n",
    "    start_time = datetime.strptime(start, \"%Y-%m-%dT%H:%M:%SZ\").replace(tzinfo=timezone.utc)\n",
    "    end_time = datetime.strptime(stop, \"%Y-%m-%dT%H:%M:%SZ\").replace(tzinfo=timezone.utc)\n",
    "    vel: TimeSeries = client.query_time_series(start_time, end_time, \"VehicleVelocity\", granularity = 1,  units=\"m/s\")\n",
    "    dist_m = intg.simpson(vel)\n",
    "    total_track_length = 5033.62413471853 # m\n",
    "    if save:\n",
    "        return dist_m, total_track_length\n",
    "    else:\n",
    "        print(f\"Distance is {dist_m:.2f} m. Total is {total_track_length:.2f} m.\")\n",
    "    \n",
    "# This assumes start and stop time stamps are in the same lap\n",
    "def return_coords(start: str, stop: str, lap: int):\n",
    "    distance = distance_so_far(start, stop, save = True)[0]\n",
    "    total_lap_distance = distance_covered_lap(lap, save = True)\n",
    "    total_track_length = 5033.62413471853\n",
    "    index = gis._python_calculate_closest_gis_indices(np.array([(distance / total_lap_distance) * total_track_length]), gis.get_path_distances())\n",
    "    return route_data.get(\"path\")[index[0]]"
   ]
  },
  {
   "cell_type": "markdown",
   "id": "01f975cc-e34a-4411-8a85-0d94b4b5f69b",
   "metadata": {},
   "source": [
    "### New - After Optimizing"
   ]
  },
  {
   "cell_type": "code",
   "execution_count": 8,
   "id": "84a49eda-4dc1-40b6-a54f-77bb653bd0b1",
   "metadata": {},
   "outputs": [],
   "source": [
    "from scipy import integrate as intg\n",
    "import numpy as np\n",
    "import matplotlib.pyplot as plt\n",
    "\n",
    "# Calculates the distance in a specified lap number\n",
    "def distance_covered_lap(lap_num: int):\n",
    "    start = day.get_start_utc(lap_num)\n",
    "    stop = day.get_finish_utc(lap_num)\n",
    "    start_time = datetime.strptime(start, \"%Y-%m-%dT%H:%M:%SZ\").replace(tzinfo=timezone.utc)\n",
    "    end_time = datetime.strptime(stop, \"%Y-%m-%dT%H:%M:%SZ\").replace(tzinfo=timezone.utc)\n",
    "    vel: TimeSeries = client.query_time_series(start_time, end_time, \"VehicleVelocity\", granularity = 1,  units=\"m/s\")\n",
    "    dist_m = intg.simpson(vel) # distance in meters\n",
    "    return dist_m\n",
    "\n",
    "# Once you already have a lap number and a velocity array, it calculates the distance you have covered\n",
    "def distance_so_far(start: datetime, stop: datetime, vel_lap: TimeSeries):\n",
    "    difference = int(stop.timestamp() - start.timestamp())\n",
    "    vel = vel_lap[: difference]\n",
    "    dist_m = intg.simpson(vel)\n",
    "    return dist_m\n",
    "    \n",
    "# This assumes start and stop time stamps are in the same lap\n",
    "def return_coords(start: datetime, stop: datetime, lap: int):\n",
    "    distance = distance_so_far(start, stop, vel)\n",
    "    total_lap_distance = distance_covered_lap(lap, save = True)\n",
    "    total_track_length = 5033.62413471853\n",
    "    index = gis._python_calculate_closest_gis_indices(np.array([(distance / total_lap_distance) * total_track_length]), gis.get_path_distances())\n",
    "    return route_data.get(\"path\")[index[0]]"
   ]
  },
  {
   "cell_type": "markdown",
   "id": "d26b364a-5330-4dc3-8e19-17fb685e77e8",
   "metadata": {},
   "source": [
    "## Lap Time Information"
   ]
  },
  {
   "cell_type": "code",
   "execution_count": 9,
   "id": "3b4ab331-4710-4aec-9cc7-275ce0a40b0e",
   "metadata": {},
   "outputs": [
    {
     "name": "stdout",
     "output_type": "stream",
     "text": [
      "The number of laps on day 3 was 49.\n"
     ]
    }
   ],
   "source": [
    "from data_tools.influxdb.fsgp_2024_laps import FSGPDayLaps\n",
    "\n",
    "day_num = 3\n",
    "\n",
    "day = FSGPDayLaps(day_num)\n",
    "\n",
    "print(f\"The number of laps on day {day_num} was {day.get_lap_count()}.\")"
   ]
  },
  {
   "cell_type": "markdown",
   "id": "3b2491c6-a4a9-49f5-9fdb-1b9b662abecb",
   "metadata": {},
   "source": [
    "### Test Lap"
   ]
  },
  {
   "cell_type": "code",
   "execution_count": 10,
   "id": "46f715d8-eaa2-4260-be53-6db8c4a63de2",
   "metadata": {},
   "outputs": [
    {
     "name": "stdout",
     "output_type": "stream",
     "text": [
      "Start time for lap 44 is 2024-07-18T20:27:46Z\n",
      "End time for lap 44 is 2024-07-18T20:41:49Z\n",
      "Lap time for lap 44 is 00:14:03\n",
      "Lap time for lap 44 is 14.05\n"
     ]
    }
   ],
   "source": [
    "# Times are in UTC\n",
    "\n",
    "test_lap = 44\n",
    "\n",
    "print(f\"Start time for lap {test_lap} is {day.get_start_utc(test_lap)}\")\n",
    "print(f\"End time for lap {test_lap} is {day.get_finish_utc(test_lap)}\")\n",
    "print(f\"Lap time for lap {test_lap} is {day.get_time(test_lap)}\")\n",
    "print(f\"Lap time for lap {test_lap} is {day.get_time_minutes(test_lap)}\")"
   ]
  },
  {
   "cell_type": "markdown",
   "id": "fb2bf092-5901-483f-a25a-ec3f480529ac",
   "metadata": {},
   "source": [
    "## Plan Moving Forward\n",
    "\n",
    "Now I know how to actually get the velocity of the car during a particular lap. In order to locate the car, I have a couple ideas:\n",
    "\n",
    "- Given a time stamp, determine which lap that time stamp is on\n",
    "  - After we know what lap we are on, use the velocity data to estimate the vehicle's position relative to the track (can just integrate the velocity vs time plot from lap start time all the way to the time stamp I selected)\n",
    "  - Would need to get more information on the track. Specifically, how long it is and potentially what shape it has"
   ]
  },
  {
   "cell_type": "markdown",
   "id": "a0906fd6-42fb-4ff7-91a3-3702c368fd2a",
   "metadata": {},
   "source": [
    "## Track Information\n",
    "\n",
    "- Length = 3.2 mi = 5149.9008 m\n",
    "- Google Earth says Length = 5035.97 m = 3.1292 mi\n",
    "- **Can use files in Google Earth Folder to find exact coordinates of the track**\n",
    "- **From the Track Coordinates that we have, we assume the lap length is 5033.62413471853 m = 3.128 mi**"
   ]
  },
  {
   "cell_type": "markdown",
   "id": "23cfba80-a17f-429c-a001-39b72b0a6e3e",
   "metadata": {
    "jp-MarkdownHeadingCollapsed": true
   },
   "source": [
    "## Aside - Testing with Random Numbers\n",
    "\n",
    "We are testing integration with a randomly generated data set because InfluxDB was down"
   ]
  },
  {
   "cell_type": "code",
   "execution_count": 11,
   "id": "6cb65460-dba5-4ca8-8eb1-be6f685a6217",
   "metadata": {},
   "outputs": [
    {
     "data": {
      "text/plain": [
       "'from numpy import random\\n\\n\\nmean_velocity = 10  # Average velocity\\nstd_deviation = 2   # Controls the spread (smoothness of fluctuations)\\nnum_samples = 500   # Number of velocity data points\\n\\n# Generate velocities with a normal distribution\\nvelocity = np.random.normal(mean_velocity, std_deviation, num_samples)\\n\\n# Clipping the values to prevent negative velocities\\nvelocity = np.clip(velocity, 0, None)\\n\\ntimes = np.array(range(500))\\n\\nplt.plot(times, velocity)\\nplt.xlabel(\"Time (s)\")\\nplt.ylabel(\"Velocity (m/s)\")\\nplt.show()'"
      ]
     },
     "execution_count": 11,
     "metadata": {},
     "output_type": "execute_result"
    }
   ],
   "source": [
    "# Generating fake data\n",
    "\n",
    "\"\"\"from numpy import random\n",
    "\n",
    "\n",
    "mean_velocity = 10  # Average velocity\n",
    "std_deviation = 2   # Controls the spread (smoothness of fluctuations)\n",
    "num_samples = 500   # Number of velocity data points\n",
    "\n",
    "# Generate velocities with a normal distribution\n",
    "velocity = np.random.normal(mean_velocity, std_deviation, num_samples)\n",
    "\n",
    "# Clipping the values to prevent negative velocities\n",
    "velocity = np.clip(velocity, 0, None)\n",
    "\n",
    "times = np.array(range(500))\n",
    "\n",
    "plt.plot(times, velocity)\n",
    "plt.xlabel(\"Time (s)\")\n",
    "plt.ylabel(\"Velocity (m/s)\")\n",
    "plt.show()\"\"\""
   ]
  },
  {
   "cell_type": "code",
   "execution_count": 12,
   "id": "404f40b6-b00e-4060-996b-abb4630fc22a",
   "metadata": {},
   "outputs": [
    {
     "data": {
      "text/plain": [
       "\"\\nfrom scipy import integrate as intg\\n\\ndist = intg.simpson(velocity, x=times) # use Simpson's rule to integrate given function and find distance\\n\""
      ]
     },
     "execution_count": 12,
     "metadata": {},
     "output_type": "execute_result"
    }
   ],
   "source": [
    "# Integrating\n",
    "\"\"\"\n",
    "from scipy import integrate as intg\n",
    "\n",
    "dist = intg.simpson(velocity, x=times) # use Simpson's rule to integrate given function and find distance\n",
    "\"\"\""
   ]
  },
  {
   "cell_type": "markdown",
   "id": "9ff5b901-99e0-45ff-9c5c-32c07006dc54",
   "metadata": {},
   "source": [
    "### Does Data Match Expectation?\n",
    "\n",
    "After integrating the velocity vs time curve for one lap we expect to see that the car travelled a distance equivalent to the length of the track. In this part, I am checking that this assumption is satisfied."
   ]
  },
  {
   "cell_type": "code",
   "execution_count": 13,
   "id": "78df1365-e509-4ce5-af21-4e4beb46f377",
   "metadata": {},
   "outputs": [
    {
     "data": {
      "text/plain": [
       "'\\n\\ntrack_length = 3.12 # mi\\n\\ndistance_travelled_m = intg.simpson(velocity, x= times) # distance in m\\n\\ndistance_travelled_mi = distance_travelled_m/(1609.34) # converting from m to mi\\n\\nprint(f\"The car travelled {distance_travelled_m:.2f} m which is equivalent to {distance_travelled_mi:.2f} mi.\")\\n\\n# assert distance_travelled_mi == track_length, \"Values do not match\" '"
      ]
     },
     "execution_count": 13,
     "metadata": {},
     "output_type": "execute_result"
    }
   ],
   "source": [
    "# assuming 1609.34 m = 1 mi\n",
    "\n",
    "\"\"\"\n",
    "\n",
    "track_length = 3.12 # mi\n",
    "\n",
    "distance_travelled_m = intg.simpson(velocity, x= times) # distance in m\n",
    "\n",
    "distance_travelled_mi = distance_travelled_m/(1609.34) # converting from m to mi\n",
    "\n",
    "print(f\"The car travelled {distance_travelled_m:.2f} m which is equivalent to {distance_travelled_mi:.2f} mi.\")\n",
    "\n",
    "# assert distance_travelled_mi == track_length, \"Values do not match\" \"\"\""
   ]
  },
  {
   "cell_type": "markdown",
   "id": "f361cc6a-f145-4bdd-97a4-950035436567",
   "metadata": {},
   "source": [
    "## Thought - Curves\n",
    "\n",
    "Velocity is always tangent to the curve. Therefore, provided the time steps I have are small enough, I should be able to pretend as if the track were a straight line and compute position from there... right? So, I just need to lay an array of the coordinates in order and then find the distance travelled in betwen two subsequent coordinates in the track."
   ]
  },
  {
   "cell_type": "markdown",
   "id": "a65f5f9a-5d19-4323-8fb7-bfa5c7fc03c4",
   "metadata": {},
   "source": [
    "## Outline of Plan\n",
    "\n",
    "1. Test that the estimated distance covered in a lap matches what we know about the lap length\n",
    "2. Ask Jonah the start location of the car and where the checkpoints are\n",
    "3. Given a time stamp, find which lap it is in and from there estimate the car's relative distance to the start of the track\n",
    "4. Create the coordinate array\n",
    "5. Extend this to return the exact coordinate of the car\n",
    "6. Create full dataset estimating car's position"
   ]
  },
  {
   "cell_type": "markdown",
   "id": "615d6920-ea0d-43be-ba2c-df1179fa21ef",
   "metadata": {},
   "source": [
    "## Step 1 - Checking Distance Matches Expectation"
   ]
  },
  {
   "cell_type": "markdown",
   "id": "12517b7b-3c63-4f8b-ac39-670fa232212c",
   "metadata": {},
   "source": [
    "### How much distance is covered per lap?"
   ]
  },
  {
   "cell_type": "markdown",
   "id": "8fe9a9f1-7cb9-46b6-b74d-61f636db77e0",
   "metadata": {},
   "source": [
    "#### DAY 1"
   ]
  },
  {
   "cell_type": "code",
   "execution_count": 14,
   "id": "4e539aa1-18d6-4a79-8d53-c5a70e658b94",
   "metadata": {},
   "outputs": [
    {
     "name": "stdout",
     "output_type": "stream",
     "text": [
      "Distance is 3.16 mi. Expected is 3.2 mi.\n",
      "Difference with expected is -0.0411 mi\n"
     ]
    }
   ],
   "source": [
    "day_num = 1\n",
    "\n",
    "day = FSGPDayLaps(day_num)\n",
    "\n",
    "test_lap = 41\n",
    "\n",
    "start = day.get_start_utc(test_lap)\n",
    "stop = day.get_finish_utc(test_lap)\n",
    "start_time = datetime.strptime(start, \"%Y-%m-%dT%H:%M:%SZ\").replace(tzinfo=timezone.utc)\n",
    "end_time = datetime.strptime(stop, \"%Y-%m-%dT%H:%M:%SZ\").replace(tzinfo=timezone.utc)\n",
    "\n",
    "# vehicle_velocity: TimeSeries = client.query(\"VehicleVelocity\", start_time, end_time POSTGRESQL\n",
    "\n",
    "vehicle_velocity: TimeSeries = client.query_time_series(start_time, end_time, \"VehicleVelocity\", granularity = 1,  units=\"m/s\")\n",
    "\n",
    "# plot_vehicle_velocity(vehicle_velocity, test_lap)\n",
    "\n",
    "distance_covered(vehicle_velocity)"
   ]
  },
  {
   "cell_type": "code",
   "execution_count": 15,
   "id": "a9454656-fd35-45f3-a7ba-c069a5e6e083",
   "metadata": {},
   "outputs": [
    {
     "data": {
      "text/plain": [
       "[<matplotlib.lines.Line2D at 0x1c3b4351400>]"
      ]
     },
     "execution_count": 15,
     "metadata": {},
     "output_type": "execute_result"
    },
    {
     "data": {
      "image/png": "[encoded data removed]",
      "text/plain": [
       "<Figure size 640x480 with 1 Axes>"
      ]
     },
     "metadata": {},
     "output_type": "display_data"
    }
   ],
   "source": [
    "distances = []\n",
    "for i in range(day.get_lap_count()):\n",
    "    test_lap = i + 1\n",
    "    start = day.get_start_utc(test_lap)\n",
    "    stop = day.get_finish_utc(test_lap)\n",
    "    start_time = datetime.strptime(start, \"%Y-%m-%dT%H:%M:%SZ\").replace(tzinfo=timezone.utc)\n",
    "    end_time = datetime.strptime(stop, \"%Y-%m-%dT%H:%M:%SZ\").replace(tzinfo=timezone.utc)\n",
    "    # vehicle_velocity: TimeSeries = client.query(\"VehicleVelocity\", start_time, end_time)\n",
    "    vehicle_velocity: TimeSeries = client.query_time_series(start_time, end_time, \"VehicleVelocity\", granularity = 1,  units=\"m/s\")\n",
    "    distance = distance_covered(vehicle_velocity, save = True)\n",
    "    distances.append(distance)\n",
    "\n",
    "laps = np.array(range(day.get_lap_count()))\n",
    "\n",
    "\n",
    "plt.title(\"Distance per lap in Day 1\")\n",
    "plt.xlabel(\"Lap number\")\n",
    "plt.ylabel(\"Distance Covered [mi]\")\n",
    "plt.axhline(y=3.20, color='r', linestyle='--', label='Expected Distance (3.2 mi)')\n",
    "plt.legend()\n",
    "plt.plot(laps, distances)\n",
    "\n"
   ]
  },
  {
   "cell_type": "markdown",
   "id": "7ddc9db2-f5d4-44d9-9a07-58065130e445",
   "metadata": {},
   "source": [
    "#### Finding Avg Distance Covered in DAY 1 Laps 3 - 20"
   ]
  },
  {
   "cell_type": "code",
   "execution_count": 16,
   "id": "8b8a9d62-cca8-4d01-8ddc-c1f2b16a38a7",
   "metadata": {},
   "outputs": [
    {
     "data": {
      "text/plain": [
       "[<matplotlib.lines.Line2D at 0x1c3b548bb90>]"
      ]
     },
     "execution_count": 16,
     "metadata": {},
     "output_type": "execute_result"
    },
    {
     "data": {
      "image/png": "[encoded data removed]",
      "text/plain": [
       "<Figure size 640x480 with 1 Axes>"
      ]
     },
     "metadata": {},
     "output_type": "display_data"
    }
   ],
   "source": [
    "distances = []\n",
    "for i in range(3, 21):\n",
    "    test_lap = i\n",
    "    start = day.get_start_utc(test_lap)\n",
    "    stop = day.get_finish_utc(test_lap)\n",
    "    start_time = datetime.strptime(start, \"%Y-%m-%dT%H:%M:%SZ\").replace(tzinfo=timezone.utc)\n",
    "    end_time = datetime.strptime(stop, \"%Y-%m-%dT%H:%M:%SZ\").replace(tzinfo=timezone.utc)\n",
    "    vehicle_velocity: TimeSeries = client.query_time_series(start_time, end_time, \"VehicleVelocity\", granularity = 1,  units=\"m/s\")\n",
    "    distance = distance_covered(vehicle_velocity, save = True)\n",
    "    distances.append(distance)\n",
    "\n",
    "laps = np.array(range(3,21))\n",
    "\n",
    "avg_lap_distance = np.sum(distances)/(len(laps))\n",
    "\n",
    "plt.title(\"Distance per Lap (Day 1 laps 3-20)\")\n",
    "plt.xlabel(\"Lap number\")\n",
    "plt.ylabel(\"Distance Covered [mi]\")\n",
    "plt.axhline(y=avg_lap_distance, color='r', linestyle='--', label=f'Avg Lap Distance ({avg_lap_distance:.3f} mi)')\n",
    "plt.legend()\n",
    "plt.plot(laps, distances)\n",
    "\n",
    "\n"
   ]
  },
  {
   "cell_type": "markdown",
   "id": "89d054fd-977c-4210-a954-fe43709b9b93",
   "metadata": {
    "jp-MarkdownHeadingCollapsed": true
   },
   "source": [
    "#### DAY 3 (DAY 2 has only 3 laps)"
   ]
  },
  {
   "cell_type": "code",
   "execution_count": 17,
   "id": "a71a093a-6d25-4370-9e74-07bc834eef5a",
   "metadata": {},
   "outputs": [],
   "source": [
    "#day_num = 3\n",
    "\n",
    "#day = FSGPDayLaps(day_num)"
   ]
  },
  {
   "cell_type": "markdown",
   "id": "6c1e5b77-4438-4d8f-be4f-469ca457ea2c",
   "metadata": {},
   "source": [
    "#### Notes - Pit Stops\n",
    "\n",
    "- I have figured out when the start of the lap and the end gets measured\n",
    "- There are some other considerations that need to happen with respect to pit time and such\n",
    "- Figured out that the pit time does not get accounted for in our distance"
   ]
  },
  {
   "cell_type": "markdown",
   "id": "dc144485-db57-4c00-a1fd-9c2962c553f3",
   "metadata": {
    "jp-MarkdownHeadingCollapsed": true
   },
   "source": [
    "## Step 2 - Location of Checkpoints"
   ]
  },
  {
   "cell_type": "markdown",
   "id": "9e9cab44-fa1a-4628-a7c8-f73716ead4fc",
   "metadata": {},
   "source": [
    "- Start line coordinates: 37.001055586944915 (N), -86.3685967797545 (W)\n",
    "- Lap 1 Start coordinates: \n",
    "\n",
    "**Use physics model to find map from positon relative to track to coordinates**\n",
    "\n",
    "**Use percent of lap completed in order to make it more consistent with the physcis tool**\n",
    "\n",
    "**Use SI Units in Physics thing**"
   ]
  },
  {
   "cell_type": "markdown",
   "id": "0c2cb669-689e-4796-9016-fc148f9bca8f",
   "metadata": {},
   "source": [
    "## Step n - Mapping Distance Relative to Track to Coordinates"
   ]
  },
  {
   "cell_type": "markdown",
   "id": "33008a2c-f4bf-45e2-9b13-c4ecb97bcb0c",
   "metadata": {},
   "source": [
    "### Preparation"
   ]
  },
  {
   "cell_type": "markdown",
   "id": "61bc2e34-c829-44fd-8cfd-07c54ff0aeda",
   "metadata": {},
   "source": [
    "#### Coordinates"
   ]
  },
  {
   "cell_type": "code",
   "execution_count": 18,
   "id": "2e5dbf90-f1d7-4747-b573-56fcf346a539",
   "metadata": {},
   "outputs": [],
   "source": [
    "# Importing Coordinates\n",
    "\n",
    "reverse_coords = [[ 37.00107373, -86.36854755],\n",
    "    [ 37.0011529 , -86.36837867],\n",
    "    [ 37.00122817, -86.3682181 ],\n",
    "    [ 37.00133071, -86.36801267],\n",
    "    [ 37.00143614, -86.36779264],\n",
    "    [ 37.00152389, -86.3675912 ],\n",
    "    [ 37.00160574, -86.36740819],\n",
    "    [ 37.00167596, -86.36725066],\n",
    "    [ 37.00175285, -86.36709064],\n",
    "    [ 37.00183166, -86.36691875],\n",
    "    [ 37.00192538, -86.36670617],\n",
    "    [ 37.00200136, -86.36653034],\n",
    "    [ 37.00208623, -86.36635086],\n",
    "    [ 37.00215644, -86.36619701],\n",
    "    [ 37.00222549, -86.36603626],\n",
    "    [ 37.00229839, -86.3658645 ],\n",
    "    [ 37.00237732, -86.36569622],\n",
    "    [ 37.00245038, -86.36553914],\n",
    "    [ 37.00252912, -86.36537128],\n",
    "    [ 37.00259904, -86.36521818],\n",
    "    [ 37.00266755, -86.36507091],\n",
    "    [ 37.00274639, -86.36490341],\n",
    "    [ 37.00283342, -86.36471029],\n",
    "    [ 37.00291248, -86.36454704],\n",
    "    [ 37.00298517, -86.36439075],\n",
    "    [ 37.0030636 , -86.36423803],\n",
    "    [ 37.00313338, -86.36408574],\n",
    "    [ 37.00320937, -86.36393701],\n",
    "    [ 37.00330797, -86.36377724],\n",
    "    [ 37.00343811, -86.36368662],\n",
    "    [ 37.00357758, -86.36365019],\n",
    "    [ 37.00372489, -86.36360692],\n",
    "    [ 37.00388711, -86.36356354],\n",
    "    [ 37.00405472, -86.36352621],\n",
    "    [ 37.00423763, -86.36348621],\n",
    "    [ 37.00437129, -86.36338074],\n",
    "    [ 37.00448184, -86.36323899],\n",
    "    [ 37.00457515, -86.36307953],\n",
    "    [ 37.0047012 , -86.36286956],\n",
    "    [ 37.00486024, -86.36273924],\n",
    "    [ 37.00505061, -86.36270756],\n",
    "    [ 37.00527945, -86.36272947],\n",
    "    [ 37.00548802, -86.36263566],\n",
    "    [ 37.00565341, -86.36245496],\n",
    "    [ 37.00573513, -86.3621647 ],\n",
    "    [ 37.00568611, -86.36182869],\n",
    "    [ 37.00548782, -86.36157939],\n",
    "    [ 37.0052881 , -86.36149696],\n",
    "    [ 37.00511652, -86.36149669],\n",
    "    [ 37.0049746 , -86.36158761],\n",
    "    [ 37.00485989, -86.3616726 ],\n",
    "    [ 37.00469955, -86.3617696 ],\n",
    "    [ 37.00451492, -86.36178471],\n",
    "    [ 37.00435852, -86.36173599],\n",
    "    [ 37.00419576, -86.36162316],\n",
    "    [ 37.00409127, -86.36146652],\n",
    "    [ 37.00404463, -86.3612301 ],\n",
    "    [ 37.00407232, -86.36097832],\n",
    "    [ 37.00415922, -86.36078578],\n",
    "    [ 37.00426711, -86.36066944],\n",
    "    [ 37.00439509, -86.36060407],\n",
    "    [ 37.00452844, -86.36057503],\n",
    "    [ 37.00466778, -86.36054604],\n",
    "    [ 37.004833  , -86.36050987],\n",
    "    [ 37.00499495, -86.36047743],\n",
    "    [ 37.00514229, -86.36044484],\n",
    "    [ 37.00524902, -86.36041601],\n",
    "    [ 37.00541074, -86.36037856],\n",
    "    [ 37.00558676, -86.36034575],\n",
    "    [ 37.00578957, -86.36038183],\n",
    "    [ 37.00596102, -86.36045445],\n",
    "    [ 37.00607154, -86.36065091],\n",
    "    [ 37.0061651 , -86.36090615],\n",
    "    [ 37.00626234, -86.3611639 ],\n",
    "    [ 37.00637312, -86.36147776],\n",
    "    [ 37.00642557, -86.36179897],\n",
    "    [ 37.00644459, -86.36216748],\n",
    "    [ 37.00637929, -86.36250433],\n",
    "    [ 37.00629836, -86.36273906],\n",
    "    [ 37.00622229, -86.36291634],\n",
    "    [ 37.00611158, -86.36309997],\n",
    "    [ 37.00600738, -86.36323379],\n",
    "    [ 37.00589169, -86.3633461 ],\n",
    "    [ 37.00576471, -86.36344689],\n",
    "    [ 37.00564905, -86.36353398],\n",
    "    [ 37.00551878, -86.36359932],\n",
    "    [ 37.00537978, -86.36365448],\n",
    "    [ 37.00525188, -86.36370605],\n",
    "    [ 37.0051236 , -86.36376501],\n",
    "    [ 37.00497727, -86.36382802],\n",
    "    [ 37.00484855, -86.36391978],\n",
    "    [ 37.00471266, -86.36403361],\n",
    "    [ 37.0045783 , -86.36422396],\n",
    "    [ 37.00447907, -86.36439954],\n",
    "    [ 37.00435695, -86.36453807],\n",
    "    [ 37.00424813, -86.36465022],\n",
    "    [ 37.00411061, -86.36480228],\n",
    "    [ 37.00397977, -86.36492984],\n",
    "    [ 37.0038682 , -86.36504946],\n",
    "    [ 37.00376295, -86.36516126],\n",
    "    [ 37.00365436, -86.36527329],\n",
    "    [ 37.00354759, -86.36539144],\n",
    "    [ 37.00341675, -86.36552332],\n",
    "    [ 37.00329206, -86.3656715 ],\n",
    "    [ 37.00316095, -86.36581567],\n",
    "    [ 37.00303256, -86.36594441],\n",
    "    [ 37.00291203, -86.36607157],\n",
    "    [ 37.00278014, -86.36622802],\n",
    "    [ 37.00269333, -86.36641303],\n",
    "    [ 37.00260606, -86.36659437],\n",
    "    [ 37.00252845, -86.36675984],\n",
    "    [ 37.00243487, -86.36695271],\n",
    "    [ 37.00234795, -86.36716654],\n",
    "    [ 37.00226102, -86.36735999],\n",
    "    [ 37.00218046, -86.36754144],\n",
    "    [ 37.00210026, -86.36771854],\n",
    "    [ 37.00202358, -86.36787901],\n",
    "    [ 37.00194406, -86.36806693],\n",
    "    [ 37.00185835, -86.36825428],\n",
    "    [ 37.00177578, -86.36843604],\n",
    "    [ 37.00169902, -86.36860048],\n",
    "    [ 37.0016732 , -86.3687928 ],\n",
    "    [ 37.001679  , -86.3689974 ],\n",
    "    [ 37.00168488, -86.36919051],\n",
    "    [ 37.00169122, -86.36938766],\n",
    "    [ 37.00169469, -86.3695562 ],\n",
    "    [ 37.00170118, -86.36974238],\n",
    "    [ 37.00171055, -86.36993991],\n",
    "    [ 37.00167198, -86.37010864],\n",
    "    [ 37.00158558, -86.37021273],\n",
    "    [ 37.00148934, -86.37030898],\n",
    "    [ 37.00139295, -86.37041757],\n",
    "    [ 37.00129011, -86.37051816],\n",
    "    [ 37.00120286, -86.37061913],\n",
    "    [ 37.00112253, -86.37073184],\n",
    "    [ 37.00106144, -86.37085264],\n",
    "    [ 37.00099678, -86.37100197],\n",
    "    [ 37.00092255, -86.37116696],\n",
    "    [ 37.00083249, -86.37137665],\n",
    "    [ 37.00073506, -86.37159438],\n",
    "    [ 37.00065426, -86.37177611],\n",
    "    [ 37.00057398, -86.37196168],\n",
    "    [ 37.00060097, -86.37214635],\n",
    "    [ 37.00074272, -86.37221467],\n",
    "    [ 37.0009059 , -86.37222018],\n",
    "    [ 37.00107657, -86.37218846],\n",
    "    [ 37.00122503, -86.37211976],\n",
    "    [ 37.00133803, -86.37204677],\n",
    "    [ 37.00145467, -86.37192099],\n",
    "    [ 37.00156457, -86.37178347],\n",
    "    [ 37.00167114, -86.37162599],\n",
    "    [ 37.00176434, -86.37145299],\n",
    "    [ 37.00183833, -86.37126821],\n",
    "    [ 37.00188646, -86.37112396],\n",
    "    [ 37.0019441 , -86.37095574],\n",
    "    [ 37.00197296, -86.370787  ],\n",
    "    [ 37.00202945, -86.37067751],\n",
    "    [ 37.00209668, -86.37048098],\n",
    "    [ 37.00218305, -86.37031655],\n",
    "    [ 37.00228558, -86.37016005],\n",
    "    [ 37.00238818, -86.37002764],\n",
    "    [ 37.00249377, -86.36991909],\n",
    "    [ 37.00259639, -86.36983868],\n",
    "    [ 37.00270864, -86.36976266],\n",
    "    [ 37.00281411, -86.3697033 ],\n",
    "    [ 37.00292264, -86.36964769],\n",
    "    [ 37.00303847, -86.369599  ],\n",
    "    [ 37.00316942, -86.36952703],\n",
    "    [ 37.00332578, -86.36939126],\n",
    "    [ 37.00342743, -86.36921198],\n",
    "    [ 37.00346211, -86.36901195],\n",
    "    [ 37.00343231, -86.36879509],\n",
    "    [ 37.00336736, -86.36861758],\n",
    "    [ 37.00327983, -86.36847602],\n",
    "    [ 37.00316589, -86.36828932],\n",
    "    [ 37.00305696, -86.36810259],\n",
    "    [ 37.00296937, -86.36793662],\n",
    "    [ 37.00293802, -86.36773416],\n",
    "    [ 37.00295792, -86.36753614],\n",
    "    [ 37.00301643, -86.36739089],\n",
    "    [ 37.00307192, -86.36724611],\n",
    "    [ 37.00312788, -86.36711056],\n",
    "    [ 37.00320856, -86.36698638],\n",
    "    [ 37.00331523, -86.36684361],\n",
    "    [ 37.00340519, -86.36672019],\n",
    "    [ 37.00350264, -86.36658791],\n",
    "    [ 37.00361135, -86.36649982],\n",
    "    [ 37.00374245, -86.36645177],\n",
    "    [ 37.00387034, -86.3664758 ],\n",
    "    [ 37.00395668, -86.36655587],\n",
    "    [ 37.00402368, -86.36670753],\n",
    "    [ 37.00407807, -86.36686779],\n",
    "    [ 37.00412607, -86.36701603],\n",
    "    [ 37.00418686, -86.36718831],\n",
    "    [ 37.00427315, -86.36742386],\n",
    "    [ 37.00436296, -86.3676927 ],\n",
    "    [ 37.00442144, -86.36790543],\n",
    "    [ 37.00445858, -86.36815496],\n",
    "    [ 37.00447715, -86.36847342],\n",
    "    [ 37.00444541, -86.36882644],\n",
    "    [ 37.00434238, -86.36911386],\n",
    "    [ 37.00425654, -86.36927291],\n",
    "    [ 37.00418289, -86.36939303],\n",
    "    [ 37.00410293, -86.36950912],\n",
    "    [ 37.00399731, -86.36962489],\n",
    "    [ 37.00390147, -86.36973254],\n",
    "    [ 37.00379293, -86.36984054],\n",
    "    [ 37.00369701, -86.36994104],\n",
    "    [ 37.00359474, -86.37004514],\n",
    "    [ 37.0034838 , -86.3701598 ],\n",
    "    [ 37.00338477, -86.37024376],\n",
    "    [ 37.00327609, -86.37032788],\n",
    "    [ 37.00318982, -86.37040789],\n",
    "    [ 37.00306205, -86.37049992],\n",
    "    [ 37.00294389, -86.37059192],\n",
    "    [ 37.00283177, -86.37070006],\n",
    "    [ 37.00272312, -86.37083897],\n",
    "    [ 37.00264003, -86.37094293],\n",
    "    [ 37.00255683, -86.37103895],\n",
    "    [ 37.00249914, -86.37115127],\n",
    "    [ 37.00243497, -86.37126771],\n",
    "    [ 37.00236746, -86.3713964 ],\n",
    "    [ 37.00230001, -86.37152106],\n",
    "    [ 37.00223561, -86.37164596],\n",
    "    [ 37.00217132, -86.37175865],\n",
    "    [ 37.0021135 , -86.37187932],\n",
    "    [ 37.00204601, -86.37200003],\n",
    "    [ 37.00196791, -86.37211434],\n",
    "    [ 37.00188761, -86.3722312 ],\n",
    "    [ 37.00180726, -86.37233202],\n",
    "    [ 37.00173651, -86.37241676],\n",
    "    [ 37.00165284, -86.37250555],\n",
    "    [ 37.00155067, -86.3726109 ],\n",
    "    [ 37.00144762, -86.37271211],\n",
    "    [ 37.00136704, -86.37279282],\n",
    "    [ 37.00126713, -86.37288565],\n",
    "    [ 37.00115123, -86.37299929],\n",
    "    [ 37.00103518, -86.37310829],\n",
    "    [ 37.0009191 , -86.37321738],\n",
    "    [ 37.00082561, -86.37329809],\n",
    "    [ 37.00072863, -86.37339546],\n",
    "    [ 37.00061364, -86.37350099],\n",
    "    [ 37.00051698, -86.37360214],\n",
    "    [ 37.00042667, -86.37368311],\n",
    "    [ 37.00032338, -86.37378434],\n",
    "    [ 37.00022342, -86.37387665],\n",
    "    [ 37.00012018, -86.3739737 ],\n",
    "    [ 37.00002051, -86.37405916],\n",
    "    [ 36.99991404, -86.37415222],\n",
    "    [ 36.99981076, -86.37423248],\n",
    "    [ 36.99970432, -86.37430523],\n",
    "    [ 36.99958169, -86.37432571],\n",
    "    [ 36.99946928, -86.37430399],\n",
    "    [ 36.99934964, -86.37428072],\n",
    "    [ 36.99922365, -86.37425686],\n",
    "    [ 36.99908793, -86.37422888],\n",
    "    [ 36.99899069, -86.37413638],\n",
    "    [ 36.99896465, -86.37397888],\n",
    "    [ 36.9989808 , -86.37380904],\n",
    "    [ 36.99900664, -86.37362303],\n",
    "    [ 36.99904589, -86.37342887],\n",
    "    [ 36.9990885 , -86.37323096],\n",
    "    [ 36.99912743, -86.3730292 ],\n",
    "    [ 36.99916641, -86.37284378],\n",
    "    [ 36.99921127, -86.37261758],\n",
    "    [ 36.99924349, -86.37245211],\n",
    "    [ 36.99932082, -86.37230251],\n",
    "    [ 36.99932082, -86.37230251],\n",
    "    [ 36.99940337, -86.37214797],\n",
    "    [ 36.99948814, -86.37199725],\n",
    "    [ 36.99958754, -86.37189043],\n",
    "    [ 36.99970528, -86.37178738],\n",
    "    [ 36.99982625, -86.37169183],\n",
    "    [ 36.99997073, -86.37159181],\n",
    "    [ 37.00011471, -86.3714889 ],\n",
    "    [ 37.00027357, -86.37138907],\n",
    "    [ 37.0003852 , -86.37123775],\n",
    "    [ 37.00042033, -86.37099884],\n",
    "    [ 37.00038811, -86.3707825 ],\n",
    "    [ 37.00031195, -86.37062837],\n",
    "    [ 37.00026491, -86.37041498],\n",
    "    [ 37.00030254, -86.37020247],\n",
    "    [ 37.00038472, -86.3700261 ],\n",
    "    [ 37.0004699 , -86.36984594],\n",
    "    [ 37.00056383, -86.36964375],\n",
    "    [ 37.00064015, -86.3694857 ],\n",
    "    [ 37.00070993, -86.36934481],\n",
    "    [ 37.0008098 , -86.36912411],\n",
    "    [ 37.00090662, -86.36891836],\n",
    "    [ 37.00098578, -86.36874579],\n",
    "    [ 37.00107373, -86.36854755]\n",
    "  ]\n",
    "\n",
    "coords = reverse_coords[::-1]"
   ]
  },
  {
   "cell_type": "markdown",
   "id": "725ab1bc-44f8-4758-bdec-8a6b59b15433",
   "metadata": {},
   "source": [
    "#### GIS Object"
   ]
  },
  {
   "cell_type": "code",
   "execution_count": 19,
   "id": "3f8b417d-4561-4ba6-8f77-dc45e4b7a59a",
   "metadata": {},
   "outputs": [],
   "source": [
    "from physics.environment.gis.gis import GIS\n",
    "from physics.environment.gis.gis import calculate_path_distances\n",
    "\n",
    "# Defining dictionary \"route_data\"\n",
    "\n",
    "route_data = {\n",
    "    \"path\" : coords,\n",
    "    \"elevations\" : np.zeros(len(coords)),\n",
    "    \"time_zones\" : np.zeros(len(coords)),\n",
    "    \"num_unique_coords\" : (len(coords) - 1) }\n",
    "\n",
    "# Creating GIS object\n",
    "\n",
    "starting_coords = [37.00107373, -86.36854755]\n",
    "\n",
    "gis = GIS(route_data, starting_coords, current_coord = starting_coords)\n",
    "\n",
    "lap_length = np.cumsum(calculate_path_distances(gis.path[:gis.num_unique_coords]))[-1] # TOTAL LAP LENGTH"
   ]
  },
  {
   "cell_type": "markdown",
   "id": "efeb6afc-1c7f-4db7-86ac-4a770bf72bca",
   "metadata": {},
   "source": [
    "#### Testing for Lap 7:"
   ]
  },
  {
   "cell_type": "markdown",
   "id": "a258d71c-893e-4ae9-a796-55f6f68a9288",
   "metadata": {},
   "source": [
    "I am taking lap 7. We know its start time, and we will set an arbitrary end time for the query that is not the end time to the lap. Essentially, we are in the middle of the lap and we want to find the car's location. First we can calculate the distance covered at that point. Then we can map that distance covered to a coordinate."
   ]
  },
  {
   "cell_type": "code",
   "execution_count": 20,
   "id": "f15e3e04-095e-48e7-9af8-dc00a7481e4c",
   "metadata": {},
   "outputs": [
    {
     "name": "stdout",
     "output_type": "stream",
     "text": [
      "The total length of the track is 5033.62413471853\n"
     ]
    },
    {
     "ename": "TypeError",
     "evalue": "distance_so_far() got an unexpected keyword argument 'save'",
     "output_type": "error",
     "traceback": [
      "\u001b[1;31m---------------------------------------------------------------------------\u001b[0m",
      "\u001b[1;31mTypeError\u001b[0m                                 Traceback (most recent call last)",
      "Cell \u001b[1;32mIn[20], line 11\u001b[0m\n\u001b[0;32m      7\u001b[0m \u001b[38;5;66;03m#end = \"2024-07-16T15:43:45Z\" # LAP END TIME: 2024-07-16T15:47:45Z\u001b[39;00m\n\u001b[0;32m      9\u001b[0m end \u001b[38;5;241m=\u001b[39m \u001b[38;5;124m\"\u001b[39m\u001b[38;5;124m2024-07-16T15:47:45Z\u001b[39m\u001b[38;5;124m\"\u001b[39m\n\u001b[1;32m---> 11\u001b[0m so_far \u001b[38;5;241m=\u001b[39m \u001b[43mdistance_so_far\u001b[49m\u001b[43m(\u001b[49m\u001b[43mstart\u001b[49m\u001b[43m,\u001b[49m\u001b[43m \u001b[49m\u001b[43mend\u001b[49m\u001b[43m,\u001b[49m\u001b[43m \u001b[49m\u001b[43msave\u001b[49m\u001b[43m \u001b[49m\u001b[38;5;241;43m=\u001b[39;49m\u001b[43m \u001b[49m\u001b[38;5;28;43;01mTrue\u001b[39;49;00m\u001b[43m)\u001b[49m\n",
      "\u001b[1;31mTypeError\u001b[0m: distance_so_far() got an unexpected keyword argument 'save'"
     ]
    }
   ],
   "source": [
    "# Test lap information\n",
    "\n",
    "print(f\"The total length of the track is {lap_length}\")\n",
    "\n",
    "lap = 7\n",
    "start = \"2024-07-16T15:40:21Z\"\n",
    "#end = \"2024-07-16T15:43:45Z\" # LAP END TIME: 2024-07-16T15:47:45Z\n",
    "\n",
    "end = \"2024-07-16T15:47:45Z\"\n",
    "\n",
    "so_far = distance_so_far(start, end, save = True)"
   ]
  },
  {
   "cell_type": "code",
   "execution_count": null,
   "id": "f1f7b787-f83a-4436-9e49-eae7f584c6c4",
   "metadata": {},
   "outputs": [],
   "source": [
    "gis._python_calculate_closest_gis_indices(np.array([0]), gis.get_path_distances())\n",
    "\n",
    "#print(route_data.get(\"path\")[1])"
   ]
  },
  {
   "cell_type": "code",
   "execution_count": null,
   "id": "f0b2b535-38fd-45f8-858a-301f5ebce087",
   "metadata": {},
   "outputs": [],
   "source": [
    "x =route_data.get(\"path\")[0]\n",
    "print(x)"
   ]
  },
  {
   "cell_type": "markdown",
   "id": "b3b969ac-84d9-46bd-9e53-b4e46b47ea17",
   "metadata": {},
   "source": [
    "#### Further Testing and Validation for Distance-to-Coordinates Mapping (Lap 14)"
   ]
  },
  {
   "cell_type": "code",
   "execution_count": null,
   "id": "59e05493-c3b6-480d-a39b-6f4d3f31182e",
   "metadata": {},
   "outputs": [],
   "source": [
    "# Getting lap and day\n",
    "\n",
    "day_num = 1\n",
    "day = FSGPDayLaps(day_num)\n",
    "lap = 14"
   ]
  },
  {
   "cell_type": "markdown",
   "id": "bb41e853-c330-4384-9be4-0d3f227cf075",
   "metadata": {},
   "source": [
    "##### Checking Start Position Works as Intended\n",
    "\n",
    "If the car has not moved at all, its coordinates should be the start coordinates. We can't give the same time stamp, so we just pick a timestamp that is a second after the start time. The distance covered should be minimal, therefore, the difference between the start coordinate and the new coordinate should be small."
   ]
  },
  {
   "cell_type": "code",
   "execution_count": null,
   "id": "ca26bcfa-4108-459a-a33e-dd5d71b2e690",
   "metadata": {},
   "outputs": [],
   "source": [
    "# Time stamps to check\n",
    "start = day.get_start_utc(lap) # start time stamp\n",
    "end = \"2024-07-16T16:28:33Z\" # two seconds after start\n",
    "\n",
    "expected = [37.00107373, -86.36854755] # starting coordinates\n",
    "\n",
    "distance = distance_so_far(start, end, save = True)[0]\n",
    "\n",
    "print(f\"The distance covered is {distance} m \")\n",
    "\n",
    "result = return_coords(start, end, lap)\n",
    "\n",
    "print(f\"Our estimated coordinates are {result}\")\n",
    "\n",
    "difference = calculate_path_distances(np.array([expected, result])) # one distance returned\n",
    "\n",
    "print(f\"The difference between expected and calculated coordinates is {difference[0]} m\")"
   ]
  },
  {
   "cell_type": "markdown",
   "id": "d74e76db-363d-44eb-87c7-d8b747dc121c",
   "metadata": {},
   "source": [
    "##### Checking Final Position Works as Intended\n",
    "\n",
    "If the car has completed a full lap, its coordinates should go back to the start coordinates."
   ]
  },
  {
   "cell_type": "code",
   "execution_count": null,
   "id": "a720b951-b6d3-4261-8bdf-54f6bc3f4efc",
   "metadata": {},
   "outputs": [],
   "source": [
    "# Time stamps to check\n",
    "start = day.get_start_utc(lap) # start time stamp\n",
    "end = day.get_finish_utc(lap) # end of lap\n",
    "\n",
    "expected = [37.00107373, -86.36854755] # we expect to go back to the starting coordinates after one lap\n",
    "\n",
    "distance = distance_so_far(start, end, save = True)[0]\n",
    "\n",
    "print(distance)\n",
    "\n",
    "result = return_coords(start, end, lap)\n",
    "\n",
    "print(f\"End coords were calculated to be {result}\")\n",
    "\n",
    "difference = calculate_path_distances(np.array([expected, result])) # one distance returned\n",
    "\n",
    "print(difference)"
   ]
  },
  {
   "cell_type": "code",
   "execution_count": null,
   "id": "b34846c8-444d-4c44-99bb-401cf69ad56c",
   "metadata": {},
   "outputs": [],
   "source": [
    "gis._find_closest_coordinate_index(np.array([37.00107373, -86.36854755]), route_data.get(\"path\"))"
   ]
  },
  {
   "cell_type": "markdown",
   "id": "71dd41bd-3a7c-4d87-b10a-a1069dd61d19",
   "metadata": {},
   "source": [
    "##### Checking A Coordinate in the Middle\n",
    "\n",
    "Over here, I am just checking that if I use some point in the middle of the lap, the coordinate I get makes sense."
   ]
  },
  {
   "cell_type": "code",
   "execution_count": null,
   "id": "d4b35b51-80cc-4e49-8f25-a4a48a9b7906",
   "metadata": {},
   "outputs": [],
   "source": [
    "# Time stamps to check\n",
    "start = day.get_start_utc(lap) # start time stamp\n",
    "end = \"2024-07-16T16:30:59Z\" # end time stamp, the lap actually ends at 2024-07-16T15:33:59Z\n",
    "\n",
    "distance = distance_so_far(start, end, save = True)[0]\n",
    "\n",
    "print(f\"The distance that was covered is {distance} m\")\n",
    "\n",
    "result = return_coords(start, end, lap)\n",
    "\n",
    "print(f\"End coords should be {result}\")\n",
    "\n",
    "difference = calculate_path_distances(np.array([expected, route_data.get(\"path\")[0]])) # one distance returned\n",
    "\n",
    "print(difference)"
   ]
  },
  {
   "cell_type": "markdown",
   "id": "1aedc628-e465-4e1f-b3e5-33ba3e6426e1",
   "metadata": {},
   "source": [
    "I checked this coordinate with the one given by Google Maps measure tools, and it matched up. Seems like it makes sense."
   ]
  },
  {
   "cell_type": "markdown",
   "id": "6d28ec36-2ed7-443e-8bcf-18e057f26211",
   "metadata": {},
   "source": [
    "##### Testing Entire Lap - Velocity vs Index\n",
    "\n",
    "Making sure that the coordinates for an entire lap makes sense. Should match up somewhat with velocity graph. Plot velocity as a function of time and index as a function of time. We should see that the rate of change of index is higher when the rate of change of position (velocity) is higher."
   ]
  },
  {
   "cell_type": "code",
   "execution_count": null,
   "id": "b3ec5d92-abd7-49b1-97ef-d451c9f29d23",
   "metadata": {},
   "outputs": [],
   "source": [
    "from datetime import datetime, timedelta\n",
    "\n",
    "start = day.get_start_utc(14) # 2024-07-16T16:28:31Z\n",
    "end = day.get_finish_utc(14) # 2024-07-16T16:36:25Z\n",
    "start_time = datetime.strptime(start, \"%Y-%m-%dT%H:%M:%SZ\").replace(tzinfo=timezone.utc)\n",
    "end_time = datetime.strptime(stop, \"%Y-%m-%dT%H:%M:%SZ\").replace(tzinfo=timezone.utc)\n",
    "\n",
    "velocity = client.query_time_series(start_time, end_time, \"VehicleVelocity\", granularity = 1,  units=\"m/s\")\n",
    "times = range(len(velocity))\n",
    "\n",
    "indices = []\n",
    "for i in range(len(velocity)):\n",
    "    #start = \"2024-07-16T16:28:31Z\"\n",
    "    #end = f\"2024-07-16T16:28:{32+i}Z\"\n",
    "    start = datetime.strptime(\"2024-07-16T16:28:31Z\", \"%Y-%m-%dT%H:%M:%SZ\")\n",
    "    start_str = \"2024-07-16T16:28:31Z\"\n",
    "    end = start + timedelta(seconds=i+1)  # i+1 to match your second increment logic\n",
    "    \n",
    "    # Convert the `end` time back to the string format if needed for your functions\n",
    "    end_str = end.strftime(\"%Y-%m-%dT%H:%M:%SZ\")\n",
    "    distance = distance_so_far(start_str, end_str, save = True)[0]\n",
    "    total_lap_distance = distance_covered_lap(14, save = True)\n",
    "    total_track_length = 5033.62413471853\n",
    "    index = gis._python_calculate_closest_gis_indices(np.array([(distance / total_lap_distance) * total_track_length]), gis.get_path_distances())\n",
    "    indices.append(index[0])\n",
    "\n",
    "np.save('indices_array.npy', indices)\n",
    "\n",
    "    \n",
    "    \n",
    "    "
   ]
  },
  {
   "cell_type": "markdown",
   "id": "d002470d-f084-492b-a706-09fc711f6db1",
   "metadata": {},
   "source": [
    "###### Getting indices for Lap 14"
   ]
  },
  {
   "cell_type": "code",
   "execution_count": null,
   "id": "63ba8cb4-20c2-4e9f-97d9-ed7b3bacfc01",
   "metadata": {},
   "outputs": [],
   "source": [
    "\"\"\"from datetime import datetime, timedelta\n",
    "\n",
    "start = day.get_start_utc(14) # 2024-07-16T16:28:31Z\n",
    "end = day.get_finish_utc(14) # 2024-07-16T16:36:25Z\n",
    "start_time = datetime.strptime(start, \"%Y-%m-%dT%H:%M:%SZ\").replace(tzinfo=timezone.utc)\n",
    "end_time = datetime.strptime(stop, \"%Y-%m-%dT%H:%M:%SZ\").replace(tzinfo=timezone.utc)\n",
    "\n",
    "velocity = client.query_time_series(start_time, end_time, \"VehicleVelocity\", granularity = 1,  units=\"m/s\")\n",
    "times = range(len(velocity))\n",
    "\n",
    "start = datetime.strptime(\"2024-07-16T16:28:31Z\", \"%Y-%m-%dT%H:%M:%SZ\")\n",
    "indices = []\n",
    "distances = np.zeros(len(velocity))\n",
    "for i in range(len(velocity)):\n",
    "    #start = \"2024-07-16T16:28:31Z\"\n",
    "    #end = f\"2024-07-16T16:28:{32+i}Z\"\n",
    "    start_str = f\"2024-07-16T16:28:3{1+i}Z\"\n",
    "    end = start + timedelta(seconds=i+1)  # i+1 to match your second increment logic\n",
    "    \n",
    "    # Convert the `end` time back to the string format if needed for your functions\n",
    "    end_str = end.strftime(\"%Y-%m-%dT%H:%M:%SZ\")\n",
    "    distance = distance_so_far(start_str, end_str, save = True)[0]\n",
    "    total_lap_distance = distance_covered_lap(14, save = True)\n",
    "    total_track_length = 5033.62413471853\n",
    "    distances[i] = (distance / total_lap_distance) * total_track_length\"\"\"\n",
    "    \n",
    "\n",
    "\n",
    "#np.save('indices_array.npy', indices)\n"
   ]
  },
  {
   "cell_type": "markdown",
   "id": "dd9c3cab-a573-4a34-8f9c-59b787ff07ad",
   "metadata": {},
   "source": [
    "###### Comparing Velocity/Time and PathIndex/Time"
   ]
  },
  {
   "cell_type": "code",
   "execution_count": null,
   "id": "defcaae9-4d7e-40c2-9ccb-c39c204c99e3",
   "metadata": {},
   "outputs": [],
   "source": [
    "import numpy as np\n",
    "import matplotlib.pyplot as plt\n",
    "\n",
    "# Example data\n",
    "x = times  # Common x-axis\n",
    "y1 = velocity\n",
    "y2 = indices\n",
    "\n",
    "# Create a figure and a set of subplots\n",
    "fig, ax1 = plt.subplots()\n",
    "\n",
    "# Plot the first dataset on the primary y-axis\n",
    "ax1.plot(x, y1, color='b', label='Velocity')\n",
    "ax1.set_xlabel('Time (s)')\n",
    "ax1.set_ylabel('Velocity (m/s)', color='b')\n",
    "ax1.tick_params(axis='y', labelcolor='b')\n",
    "\n",
    "# Create a second y-axis\n",
    "ax2 = ax1.twinx()  # This creates a new axes that shares the same x-axis\n",
    "\n",
    "# Plot the second dataset on the secondary y-axis\n",
    "ax2.plot(x, y2, color='r', label='Index', linestyle='--')\n",
    "ax2.set_ylabel('Path Index', color='r')\n",
    "ax2.tick_params(axis='y', labelcolor='r')\n",
    "\n",
    "# Optional: Add legends for clarity\n",
    "fig.tight_layout()  # To ensure the layout is neat\n",
    "ax1.legend(loc='upper left')\n",
    "ax2.legend(loc='upper right')\n",
    "\n",
    "# Title and show the plot\n",
    "plt.title('Velocity/Time and PathIndex/Time for Lap 14')\n",
    "plt.grid()\n",
    "plt.show()"
   ]
  },
  {
   "cell_type": "markdown",
   "id": "ff2b955d-9edb-4092-886d-8a1461934f10",
   "metadata": {},
   "source": [
    "###### Derivative of Indices"
   ]
  },
  {
   "cell_type": "code",
   "execution_count": null,
   "id": "1756cf8d-9080-4738-8d51-9b3d0f77466b",
   "metadata": {},
   "outputs": [],
   "source": [
    "import numpy as np\n",
    "import matplotlib.pyplot as plt\n",
    "\n",
    "loaded_indices = np.load('indices_array.npy')\n",
    "\n",
    "# Compute the derivative (rate of change of indices with respect to time)\n",
    "derivative = np.diff(indices) / np.diff(times)\n",
    "\n",
    "# Create a time array for the derivative (midpoints)\n",
    "time_derivative = [(times[i] + times[i + 1]) / 2 for i in range(len(times) - 1)]\n",
    "\n",
    "plt.plot(time_derivative, derivative, marker='o', linestyle='-', color='r', label='Derivative')\n",
    "plt.xlabel('Time')\n",
    "plt.ylabel('Derivative (Rate of Change)')\n",
    "plt.title('Derivative of Indices vs. Time')\n",
    "plt.legend()\n",
    "plt.grid()\n",
    "\n",
    "# Adjust layout and show the plot\n",
    "plt.xlim(0, 100)  # Replace with your desired time range\n",
    "#plt.ylim(start_derivative, end_derivative)  # Replace with your desired derivative range\n",
    "\n",
    "plt.tight_layout()\n",
    "plt.show()\n"
   ]
  },
  {
   "cell_type": "markdown",
   "id": "7f2aac58-bfb9-4d26-a05c-850621b320ca",
   "metadata": {
    "jp-MarkdownHeadingCollapsed": true
   },
   "source": [
    "###### Velocity/Time vs Derivative-Index/Time"
   ]
  },
  {
   "cell_type": "code",
   "execution_count": null,
   "id": "318d97ee-eee4-4cb2-a494-297a77b6c851",
   "metadata": {},
   "outputs": [],
   "source": [
    "x = time_derivative  # Common x-axis\n",
    "y1 = velocity[0:439]\n",
    "y2 = derivative\n",
    "\n",
    "# Create a figure and a set of subplots\n",
    "fig, ax1 = plt.subplots()\n",
    "\n",
    "# Plot the first dataset on the primary y-axis\n",
    "ax1.plot(x, y1, color='b', label='Velocity')\n",
    "ax1.set_xlabel('Time (s)')\n",
    "ax1.set_ylabel('Velocity (m/s)', color='b')\n",
    "ax1.tick_params(axis='y', labelcolor='b')\n",
    "\n",
    "# Create a second y-axis\n",
    "ax2 = ax1.twinx()  # This creates a new axes that shares the same x-axis\n",
    "\n",
    "# Plot the second dataset on the secondary y-axis\n",
    "ax2.plot(x, y2, color='r', label='Derivative of Index', linestyle='--')\n",
    "ax2.set_ylabel('Derivative of Path Index', color='r')\n",
    "ax2.tick_params(axis='y', labelcolor='r')\n",
    "\n",
    "# Optional: Add legends for clarity\n",
    "fig.tight_layout()  # To ensure the layout is neat\n",
    "ax1.legend(loc='upper left')\n",
    "ax2.legend(loc='upper right')\n",
    "\n",
    "# Title and show the plot\n",
    "plt.title('Velocity/Time and DerivativePathIndex/Time for Lap 14')\n",
    "plt.grid()\n",
    "plt.show()"
   ]
  },
  {
   "cell_type": "markdown",
   "id": "c04843f4-9dcd-4f1f-97f0-c078bcaa7c90",
   "metadata": {},
   "source": [
    "##### Testing Entire Lap - Distance vs Index\n",
    "\n",
    "Comparing our velocity data with the index proved to not be very effective because it is harder to see that the plots make sense. Fortunately, Jonah had the idea of instead comparing distance covered vs index because after all we do treat index like a distance metric. The results are outlined below."
   ]
  },
  {
   "cell_type": "code",
   "execution_count": null,
   "id": "dda723c9-bb48-44eb-814f-be2b0ea9c04d",
   "metadata": {},
   "outputs": [],
   "source": [
    "# indices = np.load('indices_array.npy')\n",
    "# calculating distances\n",
    "\n",
    "distances = []\n",
    "for i in range(len(velocity)):\n",
    "    #start = \"2024-07-16T16:28:31Z\"\n",
    "    #end = f\"2024-07-16T16:28:{32+i}Z\"\n",
    "    start = datetime.strptime(\"2024-07-16T16:28:31Z\", \"%Y-%m-%dT%H:%M:%SZ\")\n",
    "    start_str = \"2024-07-16T16:28:31Z\"\n",
    "    end = start + timedelta(seconds=i+1)  # i+1 to match your second increment logic\n",
    "    \n",
    "    # Convert the `end` time back to the string format if needed for your functions\n",
    "    end_str = end.strftime(\"%Y-%m-%dT%H:%M:%SZ\")\n",
    "    distance = distance_so_far(start_str, end_str, save = True)[0]\n",
    "    distances.append(distance)"
   ]
  },
  {
   "cell_type": "markdown",
   "id": "e09ed5f7-c72c-48d0-9061-60591f39c99a",
   "metadata": {
    "jp-MarkdownHeadingCollapsed": true
   },
   "source": [
    "###### Plotting"
   ]
  },
  {
   "cell_type": "code",
   "execution_count": null,
   "id": "912d1c7a-f739-41f8-aa79-b4e124fb5f33",
   "metadata": {},
   "outputs": [],
   "source": [
    "x = times  # Common x-axis\n",
    "y1 = distances\n",
    "y2 = indices\n",
    "\n",
    "# Create a figure and a set of subplots\n",
    "fig, ax1 = plt.subplots()\n",
    "\n",
    "# Plot the first dataset on the primary y-axis\n",
    "ax1.plot(x, y1, color='b', label='Distance')\n",
    "ax1.set_xlabel('Time (s)')\n",
    "ax1.set_ylabel('Distance (m)', color='b')\n",
    "ax1.tick_params(axis='y', labelcolor='b')\n",
    "\n",
    "# Create a second y-axis\n",
    "ax2 = ax1.twinx()  # This creates a new axes that shares the same x-axis\n",
    "\n",
    "# Plot the second dataset on the secondary y-axis\n",
    "ax2.plot(x, y2, color='r', label='Index', linestyle='--')\n",
    "ax2.set_ylabel('Path Index', color='r')\n",
    "ax2.tick_params(axis='y', labelcolor='r')\n",
    "\n",
    "# Optional: Add legends for clarity\n",
    "fig.tight_layout()  # To ensure the layout is neat\n",
    "ax1.legend(loc='upper left')\n",
    "ax2.legend(loc='upper right')\n",
    "\n",
    "# Title and show the plot\n",
    "plt.title('Distance/Time and PathIndex/Time for Lap 14')\n",
    "plt.grid()\n",
    "plt.show()"
   ]
  },
  {
   "cell_type": "markdown",
   "id": "31c7b9d9-9665-40dd-9066-b09e47de7fc7",
   "metadata": {},
   "source": [
    "#### Accounting for Lap 1 Difference"
   ]
  },
  {
   "cell_type": "markdown",
   "id": "0a433618-43e6-4ba6-a7fe-04f8b6497a3b",
   "metadata": {},
   "source": [
    "Lap 1 is a little bit longer because the car started from further behind. There is a difference of distance covered that needs to be accounted for."
   ]
  },
  {
   "cell_type": "code",
   "execution_count": null,
   "id": "7bbd6e6a-c6db-4d11-b292-3c05e1d5e02f",
   "metadata": {},
   "outputs": [],
   "source": [
    "# Lap 1 Difference\n",
    "\n",
    "\"\"\"d = distance_covered_lap(1, save = True)\n",
    "\n",
    "print(d -  5149.9)\"\"\""
   ]
  },
  {
   "cell_type": "markdown",
   "id": "eea9925a-1834-48f1-9e57-e2670b80e8d7",
   "metadata": {},
   "source": [
    "### Velocity between Each Pair of Coordinates - Lap 14"
   ]
  },
  {
   "cell_type": "markdown",
   "id": "1d99d554-99e9-4414-8e75-b345d1f1e335",
   "metadata": {},
   "source": [
    "I am attempting to plot every coordinate of the track in a grid. I then want to have a color map to velocity. Essentially, we want to show where in the track we were faster."
   ]
  },
  {
   "cell_type": "code",
   "execution_count": null,
   "id": "efa210c4-adfc-4318-b621-0adaaede6a00",
   "metadata": {},
   "outputs": [],
   "source": [
    "from matplotlib.collections import LineCollection\n",
    "from matplotlib import cm\n",
    "\n",
    "day_num = 1\n",
    "day = FSGPDayLaps(day_num)\n",
    "lap = 14\n",
    "start = day.get_start_utc(lap)\n",
    "stop = day.get_finish_utc(lap)\n",
    "start_time = datetime.strptime(start, \"%Y-%m-%dT%H:%M:%SZ\").replace(tzinfo=timezone.utc)\n",
    "end_time = datetime.strptime(stop, \"%Y-%m-%dT%H:%M:%SZ\").replace(tzinfo=timezone.utc)\n",
    "velocities: TimeSeries = client.query_time_series(start_time, end_time, \"VehicleVelocity\", granularity = 1,  units=\"m/s\")\n",
    "\n",
    "x_coords = [coord[1] for coord in coords]\n",
    "y_coords = [coord[0] for coord in coords]\n",
    "\n",
    "points = np.array([x_coords, y_coords]).T.reshape(-1, 1, 2)\n",
    "segments = np.concatenate([points[:-1], points[1:]], axis=1)\n",
    "\n",
    "# Normalize the velocity values to map them to a color map\n",
    "norm = plt.Normalize(min(velocities), max(velocities))\n",
    "lc = LineCollection(segments, cmap='gnuplot', norm=norm, linewidth =3)\n",
    "\n",
    "# Set the color of each segment based on velocity\n",
    "lc.set_array(np.array(velocities))\n",
    "\n",
    "# Create plot\n",
    "plt.figure(figsize=(8, 6))\n",
    "plt.gca().add_collection(lc)\n",
    "plt.plot(x_coords, y_coords, linestyle='None')  # Plot points without connecting them\n",
    "\n",
    "# Add a color bar to show the velocity scale\n",
    "plt.colorbar(lc, label='Velocity (m/s)')\n",
    "\n",
    "# Add labels, grid, and title\n",
    "plt.xlabel('X Coordinate')\n",
    "plt.ylabel('Y Coordinate')\n",
    "plt.title(f'Velocity on the Track Day {day_num} Lap {lap}')\n",
    "plt.grid(True)\n",
    "\n",
    "# Adjust the axis limits to fit the track\n",
    "plt.xlim(min(x_coords) - 0.0002, max(x_coords) + 0.0002)\n",
    "plt.ylim(min(y_coords) - 0.0002, max(y_coords) + 0.0002)\n",
    "\n",
    "plt.scatter(x_coords[0], y_coords[0], color='red', s=200, marker='*', label='Start Point')\n",
    "\n",
    "# Optionally, you can add a label to the start point\n",
    "plt.legend()\n",
    "\n",
    "# Display the plot\n",
    "plt.show()"
   ]
  },
  {
   "cell_type": "markdown",
   "id": "95d5949b-9b30-438d-a5ed-5090f2f0b974",
   "metadata": {},
   "source": [
    "#### Second Attempt\n",
    "\n",
    "Before, the velocities were normalized. Here I am attempting the method of mapping the exact coordinate to the exact velocity."
   ]
  },
  {
   "cell_type": "code",
   "execution_count": null,
   "id": "2df24cb6-a0dc-47f4-a340-28c0309faa7b",
   "metadata": {},
   "outputs": [],
   "source": [
    "start = day.get_start_utc(14)\n",
    "stop = day.get_finish_utc(14)\n",
    "start_time = datetime.strptime(start, \"%Y-%m-%dT%H:%M:%SZ\").replace(tzinfo=timezone.utc)\n",
    "end_time = datetime.strptime(stop, \"%Y-%m-%dT%H:%M:%SZ\").replace(tzinfo=timezone.utc)\n",
    "velocities: TimeSeries = client.query_time_series(start_time, end_time, \"VehicleVelocity\", granularity = 1,  units=\"m/s\")\n",
    "\n",
    "indices = np.load('indices_array.npy')\n",
    "import numpy as np\n",
    "import matplotlib.pyplot as plt\n",
    "from matplotlib.collections import LineCollection\n",
    "\n",
    "# Assume x_coords and y_coords are the coordinates, and velocities is the list of velocities\n",
    "# For example:\n",
    "\n",
    "coordinates = []\n",
    "for i in indices:\n",
    "    coordinates.append(coords[i])\n",
    "\n",
    "\n",
    "x_coords = [coord[1] for coord in coordinates]\n",
    "y_coords = [coord[0] for coord in coordinates]\n",
    "\n",
    "# Create an array of points from the coordinates\n",
    "points = np.array([x_coords, y_coords]).T.reshape(-1, 1, 2)\n",
    "\n",
    "# Create segments by connecting the points\n",
    "segments = np.concatenate([points[:-1], points[1:]], axis=1)\n",
    "\n",
    "# Normalize the velocity values for the color map\n",
    "norm = plt.Normalize(min(velocities), max(velocities))\n",
    "\n",
    "# Create a LineCollection, where each segment is colored based on the velocity\n",
    "lc = LineCollection(segments, cmap='gnuplot', norm=norm, linewidth=3)\n",
    "\n",
    "# Set the color of each segment based on the velocity values\n",
    "lc.set_array(np.array(velocities))\n",
    "\n",
    "# Create a plot\n",
    "plt.figure(figsize=(8, 6))\n",
    "plt.gca().add_collection(lc)\n",
    "plt.plot(x_coords, y_coords, linestyle='None')  # Plot points without connecting them\n",
    "\n",
    "# Add a color bar to show the velocity scale\n",
    "plt.colorbar(lc, label='Velocity (m/s)')\n",
    "\n",
    "# Add labels, grid, and title\n",
    "plt.xlabel('X Coordinate')\n",
    "plt.ylabel('Y Coordinate')\n",
    "plt.title('Velocities in Lap 14')\n",
    "plt.grid(True)\n",
    "\n",
    "\n",
    "# Adjust the axis limits to fit the track\n",
    "plt.xlim(min(x_coords) - 0.0002, max(x_coords) + 0.0002)\n",
    "plt.ylim(min(y_coords) - 0.0002, max(y_coords) + 0.0002)\n",
    "\n",
    "# Optionally, highlight the starting point\n",
    "plt.scatter(x_coords[0], y_coords[0], color='red', s=200, marker='*', label='Start Point')\n",
    "\n",
    "# Add a legend and show the plot\n",
    "plt.legend()\n",
    "plt.show()\n"
   ]
  },
  {
   "cell_type": "code",
   "execution_count": null,
   "id": "90835dd4-53a7-4bd6-9bdc-31ff5235ccc7",
   "metadata": {},
   "outputs": [],
   "source": [
    "\"\"\"import numpy as np\n",
    "from datetime import datetime, timedelta\n",
    "\n",
    "# Assume velocity is your input array\n",
    "start = day.get_start_utc(lap)\n",
    "stop = day.get_finish_utc(lap)\n",
    "start_time = datetime.strptime(start, \"%Y-%m-%dT%H:%M:%SZ\").replace(tzinfo=timezone.utc)\n",
    "end_time = datetime.strptime(stop, \"%Y-%m-%dT%H:%M:%SZ\").replace(tzinfo=timezone.utc)\n",
    "velocity = client.query_time_series(start_time, end_time, \"VehicleVelocity\", granularity = 1,  units=\"m/s\")\n",
    "num_points = len(velocity)\n",
    "distances = np.zeros(num_points)  # Preallocate array\n",
    "\n",
    "start = datetime.strptime(\"2024-07-16T16:28:31Z\", \"%Y-%m-%dT%H:%M:%SZ\")\n",
    "total_track_length = 5033.62413471853\n",
    "total_lap_distance = distance_covered_lap(14, save=True)  # Calculate this once\n",
    "\n",
    "for i in range(num_points):\n",
    "    end = start + timedelta(seconds=i + 1)\n",
    "    # Convert the `end` time back to the string format if needed for your functions\n",
    "    end_str = end.strftime(\"%Y-%m-%dT%H:%M:%SZ\")\n",
    "    distance = distance_so_far(start.strftime(\"%Y-%m-%dT%H:%M:%SZ\"), end_str, save=True)[0]\n",
    "    \n",
    "    # Calculate the distance ratio and store it directly in the array\n",
    "    result = (distance / total_lap_distance) * total_track_length\n",
    "    if result >= total_track_length:\n",
    "        distances[i] = 5033.62413471\n",
    "    else:\n",
    "        distances[i] = result\n",
    "\"\"\""
   ]
  },
  {
   "cell_type": "markdown",
   "id": "25a4312e-92a6-418d-a52c-c64137041dd6",
   "metadata": {},
   "source": [
    "### Velocity between Each Pair of Coordinates - Average Across Laps Day 1 "
   ]
  },
  {
   "cell_type": "markdown",
   "id": "c0589195-63eb-46a7-8415-ce6b3a2069fa",
   "metadata": {},
   "source": [
    "I want to repeat the same process as before, except take the average for all laps. I will however, omit 3 laps: the first one because we had a different starting position, as well as the 28th and the 32nd because we pitted and the car did a lot of driving in other parts of the track."
   ]
  },
  {
   "cell_type": "code",
   "execution_count": null,
   "id": "720cf6bc-5b7b-468b-8a87-4f6a70114846",
   "metadata": {},
   "outputs": [],
   "source": [
    "from scipy.interpolate import interp1d\n",
    "import numpy as np\n",
    "\n",
    "# Use the coordinates from the first lap as the reference\n",
    "reference_x_coords = x_coords  # These are the actual x coordinates from the first lap\n",
    "reference_y_coords = y_coords  # These are the actual y coordinates from the first lap\n",
    "num_points = len(reference_x_coords)\n",
    "\n",
    "# Initialize an array to store the interpolated velocities for each lap\n",
    "interpolated_velocities = np.zeros((num_laps, num_points))\n",
    "\n",
    "for lap in range(1, num_laps + 1):\n",
    "    # omit laps 1, 28, 32\n",
    "    if (i+1) == 1 or (i+1) ==28 or (i+1) ==32:\n",
    "        continue\n",
    "    else:\n",
    "        start = day.get_start_utc(lap)\n",
    "        stop = day.get_finish_utc(lap)\n",
    "        start_time = datetime.strptime(start, \"%Y-%m-%dT%H:%M:%SZ\").replace(tzinfo=timezone.utc)\n",
    "        end_time = datetime.strptime(stop, \"%Y-%m-%dT%H:%M:%SZ\").replace(tzinfo=timezone.utc)\n",
    "        velocities: TimeSeries = client.query_time_series(start_time, end_time, \"VehicleVelocity\", granularity=1, units=\"m/s\")\n",
    "        interp_func = interp1d(np.linspace(0, 1, len(velocities)), velocities, kind='linear', fill_value=\"extrapolate\")\n",
    "        interpolated_velocities[lap - 1, :] = interp_func(np.linspace(0, 1, num_points))\n",
    "\n",
    "# Calculate the average velocity at each reference point\n",
    "average_velocities = np.mean(interpolated_velocities, axis=0)\n",
    "\n",
    "# Create the plot with average velocities\n",
    "points = np.array([reference_x_coords, reference_y_coords]).T.reshape(-1, 1, 2)\n",
    "segments = np.concatenate([points[:-1], points[1:]], axis=1)\n",
    "\n",
    "# Normalize the average velocity values to map them to a color map\n",
    "norm = plt.Normalize(min(average_velocities), max(average_velocities))\n",
    "lc = LineCollection(segments, cmap='gnuplot', norm=norm, linewidth=3)\n",
    "\n",
    "# Set the color of each segment based on average velocity\n",
    "lc.set_array(np.array(average_velocities))\n",
    "\n",
    "# Create plot\n",
    "plt.figure(figsize=(8, 6))\n",
    "plt.gca().add_collection(lc)\n",
    "plt.plot(reference_x_coords, reference_y_coords, linestyle='None')  # Plot points without connecting them\n",
    "\n",
    "# Add a color bar to show the average velocity scale\n",
    "plt.colorbar(lc, label='Average Velocity (m/s)')\n",
    "\n",
    "# Add labels, grid, and title\n",
    "plt.xlabel('X Coordinate')\n",
    "plt.ylabel('Y Coordinate')\n",
    "plt.title('Average Velocity on the Track Over All Laps')\n",
    "plt.grid(True)\n",
    "\n",
    "# Adjust the axis limits to fit the track\n",
    "plt.xlim(min(reference_x_coords) - 0.0002, max(reference_x_coords) + 0.0002)\n",
    "plt.ylim(min(reference_y_coords) - 0.0002, max(reference_y_coords) + 0.0002)\n",
    "\n",
    "plt.scatter(reference_x_coords[0], reference_y_coords[0], color='red', s=200, marker='*', label='Start Point')\n",
    "\n",
    "# Optionally, you can add a label to the start point\n",
    "plt.legend()\n",
    "\n",
    "# Display the plot\n",
    "plt.show()\n"
   ]
  },
  {
   "cell_type": "code",
   "execution_count": null,
   "id": "9e0b977b-f51b-483a-9b91-f825d17eaffe",
   "metadata": {},
   "outputs": [],
   "source": [
    "# Finding average velocities\n",
    "\n",
    "velocities_all = []\n",
    "for i in range(day.get_lap_count()):\n",
    "    if (i+1) == 1 or (i+1) ==28 or (i+1) ==32:\n",
    "        continue\n",
    "    else:\n",
    "        start = day.get_start_utc(i+1)\n",
    "        stop = day.get_finish_utc(i+1)\n",
    "        start_time = datetime.strptime(start, \"%Y-%m-%dT%H:%M:%SZ\").replace(tzinfo=timezone.utc)\n",
    "        end_time = datetime.strptime(stop, \"%Y-%m-%dT%H:%M:%SZ\").replace(tzinfo=timezone.utc)\n",
    "        velocities: TimeSeries = client.query_time_series(start_time, end_time, \"VehicleVelocity\", granularity = 1,  units=\"m/s\")\n",
    "        velocities_all.append(velocities)\n",
    "\n"
   ]
  },
  {
   "cell_type": "markdown",
   "id": "d929e369-d878-46a9-9877-351199a89cb9",
   "metadata": {},
   "source": [
    "### General Solution"
   ]
  },
  {
   "cell_type": "markdown",
   "id": "a89c348f-c29a-481d-a1ac-dc256cad08ec",
   "metadata": {},
   "source": [
    "The rationale here is that I am given a time stamp, and I want to identify what lap that timestamp is in. I will then be able to find the distance covered so far."
   ]
  },
  {
   "cell_type": "markdown",
   "id": "a6984c3d-da85-4ead-9cd2-ba277eba0205",
   "metadata": {},
   "source": [
    "#### Data Given"
   ]
  },
  {
   "cell_type": "code",
   "execution_count": null,
   "id": "a3f10245-333c-4f4b-bdf7-cace73d698ef",
   "metadata": {},
   "outputs": [],
   "source": [
    "day_num = 1\n",
    "\n",
    "day = FSGPDayLaps(day_num)\n",
    "\n",
    "lap = 5\n",
    "\n",
    "start = day.get_start_utc(test_lap)\n",
    "stop = day.get_finish_utc(test_lap)\n",
    "start_time = datetime.strptime(start, \"%Y-%m-%dT%H:%M:%SZ\").replace(tzinfo=timezone.utc)\n",
    "end_time = datetime.strptime(stop, \"%Y-%m-%dT%H:%M:%SZ\").replace(tzinfo=timezone.utc)"
   ]
  },
  {
   "cell_type": "markdown",
   "id": "8b09fd60-151f-44d3-a9bf-b5499fedb985",
   "metadata": {},
   "source": [
    "#### Finding Lap From Time Stamp"
   ]
  },
  {
   "cell_type": "code",
   "execution_count": null,
   "id": "63205705-e8da-45ca-8a74-94c0dec74ffb",
   "metadata": {},
   "outputs": [],
   "source": [
    "import pandas as pd\n",
    "\n",
    "# Replace 'your_file.csv' with the path to your CSV file\n",
    "df = pd.read_csv('venv/Lib/site-packages/data_tools/static_data/fsgp_timing_2024/fsgp_timing_day_1.csv')\n",
    "\n",
    "# Display the first few rows of the CSV to understand its structure\n",
    "df.head()"
   ]
  },
  {
   "cell_type": "code",
   "execution_count": null,
   "id": "f846dc23-7b76-46d9-bad4-2911214267ef",
   "metadata": {},
   "outputs": [],
   "source": [
    "pd.options.display.max_rows = 9999\n",
    "\n",
    "df"
   ]
  },
  {
   "cell_type": "code",
   "execution_count": null,
   "id": "bc2c6977-9337-44cb-9fac-c1d1b609aedc",
   "metadata": {},
   "outputs": [],
   "source": [
    "day_num = 1\n",
    "\n",
    "day = FSGPDayLaps(day_num)\n",
    "\n",
    "print(day.get_lap_count())\n",
    "\n",
    "day.get_start_utc(1)"
   ]
  },
  {
   "cell_type": "markdown",
   "id": "2238cd62-9211-46a4-ac5d-cdbbf40bd74c",
   "metadata": {},
   "source": [
    "#### Start of Mapping"
   ]
  },
  {
   "cell_type": "code",
   "execution_count": null,
   "id": "1f068b6f-3d7c-4a76-b4c3-796dd4b40d0c",
   "metadata": {},
   "outputs": [],
   "source": [
    "# This assumes start and stop time stamps are in the same lap\n",
    "\n",
    "def return_coords(start: str, stop: str, lap: int):\n",
    "    distance = distance_so_far(start, stop, save = True)[0]\n",
    "    total_lap_distance = distance_covered_lap(lap, save = True)\n",
    "    total_track_length = 5033.62413471853\n",
    "    index = gis._python_calculate_closest_gis_indices(np.array([(distance / total_lap_distance) * total_track_length]), gis.get_path_distances())\n",
    "    return route_data.get(\"path\")[index[0]]\n",
    "\n",
    "# !!! Missing Find Lap Function\n",
    "    "
   ]
  },
  {
   "cell_type": "code",
   "execution_count": null,
   "id": "31bfc62c-821e-49b7-a7b8-72149cfd0def",
   "metadata": {},
   "outputs": [],
   "source": [
    "return_coords(\"2024-07-16T15:40:21Z\", \"2024-07-16T15:43:45Z\", 7)"
   ]
  },
  {
   "cell_type": "code",
   "execution_count": null,
   "id": "7a0c76c9-c87a-41f9-9e21-4695d68589b4",
   "metadata": {},
   "outputs": [],
   "source": []
  }
 ],
 "metadata": {
  "kernelspec": {
   "display_name": "Python 3 (ipykernel)",
   "language": "python",
   "name": "python3"
  },
  "language_info": {
   "codemirror_mode": {
    "name": "ipython",
    "version": 3
   },
   "file_extension": ".py",
   "mimetype": "text/x-python",
   "name": "python",
   "nbconvert_exporter": "python",
   "pygments_lexer": "ipython3",
   "version": "3.12.6"
  }
 },
 "nbformat": 4,
 "nbformat_minor": 5
}
