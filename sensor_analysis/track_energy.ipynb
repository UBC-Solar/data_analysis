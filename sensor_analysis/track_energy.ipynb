{
 "cells": [
  {
   "cell_type": "markdown",
   "id": "5bac4efe-1bfd-4445-a64e-0af0c507c3f4",
   "metadata": {},
   "source": [
    "# Track Energy\n",
    "\n",
    "Notebook to track energy throughout the car to analyze energy discrepancies and if sensor calibration is needed"
   ]
  },
  {
   "cell_type": "markdown",
   "id": "0af7a2e4-6ce0-48e0-86c5-4049d9be0aff",
   "metadata": {},
   "source": [
    "## Imports and Initialization"
   ]
  },
  {
   "cell_type": "code",
   "execution_count": 2,
   "id": "32df1cec-c923-4206-b369-2c0286a74508",
   "metadata": {},
   "outputs": [],
   "source": [
    "from data_tools.time_series import TimeSeries\n",
    "from data_tools.influx_client import InfluxClient\n",
    "import numpy as np\n",
    "\n",
    "# Start and stop dates/times to query from Influx\n",
    "start = \"2024-07-02T05:05:50Z\" \n",
    "stop = \"2024-07-20T17:25:00Z\"\n",
    "\n",
    "client = InfluxClient()"
   ]
  },
  {
   "cell_type": "markdown",
   "id": "4e32403a-d435-4121-bb11-7e6eec26dcdc",
   "metadata": {},
   "source": [
    "### Necessary Functions \n",
    "Functions to align **TimeSeries** objects and get signed battery current, pack power, and motor power."
   ]
  },
  {
   "cell_type": "code",
   "execution_count": 3,
   "id": "31e5d27c-ff5e-40de-a5f0-a1ca432de486",
   "metadata": {},
   "outputs": [],
   "source": [
    "def get_signed_battery_current(battery_current_direction: TimeSeries, battery_current: TimeSeries) -> TimeSeries:\n",
    "    # Ensure that the input time series are aligned before multiplication\n",
    "    battery_current_direction, battery_current = TimeSeries.align(battery_current_direction, battery_current)\n",
    "\n",
    "    # Convert direction to \n",
    "    masked_direction = np.where(battery_current_direction == 0, 1, -1)\n",
    "    \n",
    "    signed_current_data = masked_direction * battery_current\n",
    "\n",
    "    # Create the metadata for the signed current TimeSeries\n",
    "    signed_current_meta = {\n",
    "        \"start\": battery_current_direction.start,\n",
    "        \"stop\": battery_current_direction.stop,\n",
    "        \"car\": battery_current_direction.meta[\"car\"],\n",
    "        \"measurement\": battery_current_direction.meta[\"measurement\"],\n",
    "        \"field\": \"SignedBatteryCurrent\",\n",
    "        \"granularity\": battery_current_direction.granularity,\n",
    "        \"length\": battery_current_direction.length,\n",
    "        \"units\": \"A\",\n",
    "    }\n",
    "\n",
    "    # Create and return the new TimeSeries object\n",
    "    signed_current = TimeSeries(signed_current_data, signed_current_meta)\n",
    "    return signed_current\n",
    "\n",
    "def get_power(current: TimeSeries, voltage: TimeSeries, new_field_name: str, units: str) -> TimeSeries:\n",
    "    # Ensure that the input time series are aligned before multiplication\n",
    "    current, voltage = TimeSeries.align(current, voltage)\n",
    "    \n",
    "    power_data = current * voltage\n",
    "\n",
    "    # Create the metadata for the power TimeSeries\n",
    "    power_meta = {\n",
    "        \"start\": voltage.start,\n",
    "        \"stop\": voltage.stop,\n",
    "        \"car\": voltage.meta[\"car\"],\n",
    "        \"measurement\": voltage.meta[\"measurement\"],\n",
    "        \"field\": new_field_name,\n",
    "        \"granularity\": voltage.granularity,\n",
    "        \"length\": voltage.length,\n",
    "        \"units\": units,\n",
    "    }\n",
    "\n",
    "    # Create and return the new TimeSeries object\n",
    "    power = TimeSeries(power_data, power_meta)\n",
    "    return power"
   ]
  },
  {
   "cell_type": "markdown",
   "id": "b4de49bd-1bac-4648-8f6a-211f3720ba8e",
   "metadata": {},
   "source": [
    "## Setup\n",
    "Query and fetch necessary data from Influx"
   ]
  },
  {
   "cell_type": "code",
   "execution_count": 4,
   "id": "cb13baa4-b633-4732-a424-0f4e281a12c0",
   "metadata": {},
   "outputs": [
    {
     "name": "stderr",
     "output_type": "stream",
     "text": [
      "C:\\Users\\tamze\\OneDrive\\Documents\\GitHub\\data_analysis\\.venv\\Lib\\site-packages\\data_tools\\time_series.py:298: FutureWarning: Series.__getitem__ treating keys as positions is deprecated. In a future version, integer keys will always be treated as labels (consistent with DataFrame behavior). To access a value by position, use `ser.iloc[pos]`\n",
      "  \"car\": query_df[\"car\"][0],\n",
      "C:\\Users\\tamze\\OneDrive\\Documents\\GitHub\\data_analysis\\.venv\\Lib\\site-packages\\data_tools\\time_series.py:299: FutureWarning: Series.__getitem__ treating keys as positions is deprecated. In a future version, integer keys will always be treated as labels (consistent with DataFrame behavior). To access a value by position, use `ser.iloc[pos]`\n",
      "  \"measurement\": query_df[\"_measurement\"][0],\n",
      "C:\\Users\\tamze\\OneDrive\\Documents\\GitHub\\data_analysis\\.venv\\Lib\\site-packages\\data_tools\\time_series.py:298: FutureWarning: Series.__getitem__ treating keys as positions is deprecated. In a future version, integer keys will always be treated as labels (consistent with DataFrame behavior). To access a value by position, use `ser.iloc[pos]`\n",
      "  \"car\": query_df[\"car\"][0],\n",
      "C:\\Users\\tamze\\OneDrive\\Documents\\GitHub\\data_analysis\\.venv\\Lib\\site-packages\\data_tools\\time_series.py:299: FutureWarning: Series.__getitem__ treating keys as positions is deprecated. In a future version, integer keys will always be treated as labels (consistent with DataFrame behavior). To access a value by position, use `ser.iloc[pos]`\n",
      "  \"measurement\": query_df[\"_measurement\"][0],\n",
      "C:\\Users\\tamze\\OneDrive\\Documents\\GitHub\\data_analysis\\.venv\\Lib\\site-packages\\data_tools\\time_series.py:298: FutureWarning: Series.__getitem__ treating keys as positions is deprecated. In a future version, integer keys will always be treated as labels (consistent with DataFrame behavior). To access a value by position, use `ser.iloc[pos]`\n",
      "  \"car\": query_df[\"car\"][0],\n",
      "C:\\Users\\tamze\\OneDrive\\Documents\\GitHub\\data_analysis\\.venv\\Lib\\site-packages\\data_tools\\time_series.py:299: FutureWarning: Series.__getitem__ treating keys as positions is deprecated. In a future version, integer keys will always be treated as labels (consistent with DataFrame behavior). To access a value by position, use `ser.iloc[pos]`\n",
      "  \"measurement\": query_df[\"_measurement\"][0],\n",
      "C:\\Users\\tamze\\OneDrive\\Documents\\GitHub\\data_analysis\\.venv\\Lib\\site-packages\\data_tools\\time_series.py:298: FutureWarning: Series.__getitem__ treating keys as positions is deprecated. In a future version, integer keys will always be treated as labels (consistent with DataFrame behavior). To access a value by position, use `ser.iloc[pos]`\n",
      "  \"car\": query_df[\"car\"][0],\n",
      "C:\\Users\\tamze\\OneDrive\\Documents\\GitHub\\data_analysis\\.venv\\Lib\\site-packages\\data_tools\\time_series.py:299: FutureWarning: Series.__getitem__ treating keys as positions is deprecated. In a future version, integer keys will always be treated as labels (consistent with DataFrame behavior). To access a value by position, use `ser.iloc[pos]`\n",
      "  \"measurement\": query_df[\"_measurement\"][0],\n",
      "C:\\Users\\tamze\\OneDrive\\Documents\\GitHub\\data_analysis\\.venv\\Lib\\site-packages\\data_tools\\time_series.py:298: FutureWarning: Series.__getitem__ treating keys as positions is deprecated. In a future version, integer keys will always be treated as labels (consistent with DataFrame behavior). To access a value by position, use `ser.iloc[pos]`\n",
      "  \"car\": query_df[\"car\"][0],\n",
      "C:\\Users\\tamze\\OneDrive\\Documents\\GitHub\\data_analysis\\.venv\\Lib\\site-packages\\data_tools\\time_series.py:299: FutureWarning: Series.__getitem__ treating keys as positions is deprecated. In a future version, integer keys will always be treated as labels (consistent with DataFrame behavior). To access a value by position, use `ser.iloc[pos]`\n",
      "  \"measurement\": query_df[\"_measurement\"][0],\n",
      "C:\\Users\\tamze\\OneDrive\\Documents\\GitHub\\data_analysis\\.venv\\Lib\\site-packages\\data_tools\\time_series.py:298: FutureWarning: Series.__getitem__ treating keys as positions is deprecated. In a future version, integer keys will always be treated as labels (consistent with DataFrame behavior). To access a value by position, use `ser.iloc[pos]`\n",
      "  \"car\": query_df[\"car\"][0],\n",
      "C:\\Users\\tamze\\OneDrive\\Documents\\GitHub\\data_analysis\\.venv\\Lib\\site-packages\\data_tools\\time_series.py:299: FutureWarning: Series.__getitem__ treating keys as positions is deprecated. In a future version, integer keys will always be treated as labels (consistent with DataFrame behavior). To access a value by position, use `ser.iloc[pos]`\n",
      "  \"measurement\": query_df[\"_measurement\"][0],\n",
      "C:\\Users\\tamze\\OneDrive\\Documents\\GitHub\\data_analysis\\.venv\\Lib\\site-packages\\data_tools\\time_series.py:298: FutureWarning: Series.__getitem__ treating keys as positions is deprecated. In a future version, integer keys will always be treated as labels (consistent with DataFrame behavior). To access a value by position, use `ser.iloc[pos]`\n",
      "  \"car\": query_df[\"car\"][0],\n",
      "C:\\Users\\tamze\\OneDrive\\Documents\\GitHub\\data_analysis\\.venv\\Lib\\site-packages\\data_tools\\time_series.py:299: FutureWarning: Series.__getitem__ treating keys as positions is deprecated. In a future version, integer keys will always be treated as labels (consistent with DataFrame behavior). To access a value by position, use `ser.iloc[pos]`\n",
      "  \"measurement\": query_df[\"_measurement\"][0],\n",
      "C:\\Users\\tamze\\OneDrive\\Documents\\GitHub\\data_analysis\\.venv\\Lib\\site-packages\\data_tools\\time_series.py:298: FutureWarning: Series.__getitem__ treating keys as positions is deprecated. In a future version, integer keys will always be treated as labels (consistent with DataFrame behavior). To access a value by position, use `ser.iloc[pos]`\n",
      "  \"car\": query_df[\"car\"][0],\n",
      "C:\\Users\\tamze\\OneDrive\\Documents\\GitHub\\data_analysis\\.venv\\Lib\\site-packages\\data_tools\\time_series.py:299: FutureWarning: Series.__getitem__ treating keys as positions is deprecated. In a future version, integer keys will always be treated as labels (consistent with DataFrame behavior). To access a value by position, use `ser.iloc[pos]`\n",
      "  \"measurement\": query_df[\"_measurement\"][0],\n",
      "C:\\Users\\tamze\\OneDrive\\Documents\\GitHub\\data_analysis\\.venv\\Lib\\site-packages\\data_tools\\time_series.py:298: FutureWarning: Series.__getitem__ treating keys as positions is deprecated. In a future version, integer keys will always be treated as labels (consistent with DataFrame behavior). To access a value by position, use `ser.iloc[pos]`\n",
      "  \"car\": query_df[\"car\"][0],\n",
      "C:\\Users\\tamze\\OneDrive\\Documents\\GitHub\\data_analysis\\.venv\\Lib\\site-packages\\data_tools\\time_series.py:299: FutureWarning: Series.__getitem__ treating keys as positions is deprecated. In a future version, integer keys will always be treated as labels (consistent with DataFrame behavior). To access a value by position, use `ser.iloc[pos]`\n",
      "  \"measurement\": query_df[\"_measurement\"][0],\n"
     ]
    }
   ],
   "source": [
    "# Battery Queries\n",
    "battery_current: TimeSeries = client.query_time_series(start=start, stop=stop, field=\"BatteryCurrent\", units=\"A\")\n",
    "battery_voltage: TimeSeries = client.query_time_series(start=start, stop=stop, field=\"BatteryVoltage\", units=\"V\")\n",
    "battery_current_direction: TimeSeries = client.query_time_series(start=start, stop=stop, field=\"BatteryCurrentDirection\")\n",
    "\n",
    "\n",
    "# Pack Queries\n",
    "pack_current: TimeSeries = client.query_time_series(start=start, stop=stop, field=\"PackCurrent\", units=\"A\")\n",
    "pack_voltage: TimeSeries = client.query_time_series(start=start, stop=stop, field=\"TotalPackVoltage\", units=\"V\")\n",
    "\n",
    "\n",
    "# Array/AMB queries\n",
    "amb_volt1: TimeSeries = client.query_time_series(start=start, stop=stop, field=\"VoltSensor1\", units=\"V\")\n",
    "amb_volt2: TimeSeries = client.query_time_series(start=start, stop=stop, field=\"VoltSensor2\", units=\"V\")\n",
    "amb_curr1: TimeSeries = client.query_time_series(start=start, stop=stop, field=\"CurrentSensor1\", units=\"A\")\n",
    "amb_curr2: TimeSeries = client.query_time_series(start=start, stop=stop, field=\"CurrentSensor2\", units=\"A\")"
   ]
  },
  {
   "cell_type": "markdown",
   "id": "df2b936b-6879-470a-b75b-d52ff711f89f",
   "metadata": {},
   "source": [
    "Get power from fetched data"
   ]
  },
  {
   "cell_type": "code",
   "execution_count": null,
   "id": "dd058c4e-3553-4793-a20f-ab86d7666e5d",
   "metadata": {},
   "outputs": [],
   "source": [
    "# Get signed battery current\n",
    "signed_current = get_signed_battery_current(battery_current_direction, battery_current)\n",
    "\n",
    "# Get power\n",
    "motor_power = get_power(signed_current, battery_voltage, \"MotorPower\", \"W\")\n",
    "pack_power = get_power(pack_current, pack_voltage, \"PackPower\", \"W\")\n",
    "array_power1 = get_power(amb_curr1, amb_volt1, \"ArrayPower1\", \"W\")\n",
    "array_power2 = get_power(amb_curr2, amb_volt2, \"ArrayPower2\", \"W\")\n",
    "\n",
    "# Get total power from arrays\n",
    "array_power_data = array_power1 + array_power2\n",
    "\n",
    "# Create the metadata for the power TimeSeries\n",
    "array_power_meta = {\n",
    "    \"start\": array_power1.start,\n",
    "    \"stop\": array_power1.stop,\n",
    "    \"car\": array_power1.meta[\"car\"],\n",
    "    \"measurement\": array_power1.meta[\"measurement\"],\n",
    "    \"field\": \"ArrayPower\",\n",
    "    \"granularity\": array_power1.granularity,\n",
    "    \"length\": array_power1.length,\n",
    "    \"units\": array_power1.units,\n",
    "}\n",
    "\n",
    "# Create and return the new TimeSeries object\n",
    "array_power = TimeSeries(array_power_data, array_power_meta)\n",
    "\n",
    "motor_power.plot()\n",
    "pack_power.plot()\n",
    "array_power.plot()"
   ]
  },
  {
   "cell_type": "code",
   "execution_count": null,
   "id": "ad52b2da-6bd8-406a-909c-6cb0894c34be",
   "metadata": {},
   "outputs": [],
   "source": []
  }
 ],
 "metadata": {
  "kernelspec": {
   "display_name": "stg-data-anaylsis",
   "language": "python",
   "name": "stg-data-analysis"
  },
  "language_info": {
   "codemirror_mode": {
    "name": "ipython",
    "version": 3
   },
   "file_extension": ".py",
   "mimetype": "text/x-python",
   "name": "python",
   "nbconvert_exporter": "python",
   "pygments_lexer": "ipython3",
   "version": "3.11.9"
  }
 },
 "nbformat": 4,
 "nbformat_minor": 5
}
