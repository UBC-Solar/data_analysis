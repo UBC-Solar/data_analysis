{
 "cells": [
  {
   "cell_type": "markdown",
   "id": "7c3f3012-8a44-495d-b384-08380b33de6b",
   "metadata": {},
   "source": [
    "## Purpose of Notebook"
   ]
  },
  {
   "cell_type": "markdown",
   "id": "8c834b30-5c3d-4d69-8888-db4f291129d8",
   "metadata": {},
   "source": [
    "The speed constraints in Simulation seem to not be working properly. Whenever we run our simulation, we get output speeds that are significantly higher than what we expect, leading us to believe that the speeds are not being properly constrained. I have determined that the root issue is how the speed limits are being calculated, and that the process of enforcing the constraints is working fine. Now that we have data from competition telling us the speed of the car at different points in the track, we can impose realistic constraints without any need to estimate them. In this notebook, I will find the maximal speeds at every point in the track, and set these speeds as the speed limits used in Simulation."
   ]
  },
  {
   "cell_type": "markdown",
   "id": "68e9cd2f-4337-4358-a211-01a8ef830c43",
   "metadata": {},
   "source": [
    "## Creating Client & Imports"
   ]
  },
  {
   "cell_type": "code",
   "execution_count": 1,
   "id": "858ae8ff-2744-4db9-a780-8bdfbd28eba3",
   "metadata": {},
   "outputs": [
    {
     "name": "stderr",
     "output_type": "stream",
     "text": [
      "ERROR:data_tools.query.postgresql_query:Could not find a POSTGRESQL_USERNAME in .env!\n",
      "ERROR:data_tools.query.postgresql_query:Could not find a POSTGRESQL_PASSWORD in .env!\n",
      "ERROR:data_tools.query.postgresql_query:Could not find a POSTGRESQL_DATABASE in .env!\n",
      "ERROR:data_tools.query.postgresql_query:Could not find a POSTGRESQL_ADDRESS in .env!\n"
     ]
    },
    {
     "name": "stdout",
     "output_type": "stream",
     "text": [
      "Creating client with API Token: s4Z9_S6_O09kDzYn1KZcs7LVoCA2cVK9_ObY44vR4xMh-wYLSWBkypS0S0ZHQgBvEV2A5LgvQ1IKr8byHes2LA==\n",
      "Creating client with Org: 8a0b66d77a331e96\n"
     ]
    }
   ],
   "source": [
    "from data_tools.collections.time_series import TimeSeries\n",
    "from data_tools.query.influxdb_query import DBClient\n",
    "from data_tools.influxdb.fsgp_2024_laps import FSGPDayLaps\n",
    "\n",
    "# CLIENT\n",
    "client = DBClient()\n",
    "\n",
    "# SETTING DAY\n",
    "day_num = 1\n",
    "day = FSGPDayLaps(day_num)"
   ]
  },
  {
   "cell_type": "markdown",
   "id": "4592c559-b87c-42c5-953a-2987fa913726",
   "metadata": {
    "jp-MarkdownHeadingCollapsed": true
   },
   "source": [
    "## Coordinates"
   ]
  },
  {
   "cell_type": "code",
   "execution_count": 2,
   "id": "93253395-9b8b-4b8e-87b7-e0b7f7b16502",
   "metadata": {},
   "outputs": [],
   "source": [
    "# Importing Coordinates\n",
    "\n",
    "reverse_coords = [[ 37.00107373, -86.36854755],\n",
    "    [ 37.0011529 , -86.36837867],\n",
    "    [ 37.00122817, -86.3682181 ],\n",
    "    [ 37.00133071, -86.36801267],\n",
    "    [ 37.00143614, -86.36779264],\n",
    "    [ 37.00152389, -86.3675912 ],\n",
    "    [ 37.00160574, -86.36740819],\n",
    "    [ 37.00167596, -86.36725066],\n",
    "    [ 37.00175285, -86.36709064],\n",
    "    [ 37.00183166, -86.36691875],\n",
    "    [ 37.00192538, -86.36670617],\n",
    "    [ 37.00200136, -86.36653034],\n",
    "    [ 37.00208623, -86.36635086],\n",
    "    [ 37.00215644, -86.36619701],\n",
    "    [ 37.00222549, -86.36603626],\n",
    "    [ 37.00229839, -86.3658645 ],\n",
    "    [ 37.00237732, -86.36569622],\n",
    "    [ 37.00245038, -86.36553914],\n",
    "    [ 37.00252912, -86.36537128],\n",
    "    [ 37.00259904, -86.36521818],\n",
    "    [ 37.00266755, -86.36507091],\n",
    "    [ 37.00274639, -86.36490341],\n",
    "    [ 37.00283342, -86.36471029],\n",
    "    [ 37.00291248, -86.36454704],\n",
    "    [ 37.00298517, -86.36439075],\n",
    "    [ 37.0030636 , -86.36423803],\n",
    "    [ 37.00313338, -86.36408574],\n",
    "    [ 37.00320937, -86.36393701],\n",
    "    [ 37.00330797, -86.36377724],\n",
    "    [ 37.00343811, -86.36368662],\n",
    "    [ 37.00357758, -86.36365019],\n",
    "    [ 37.00372489, -86.36360692],\n",
    "    [ 37.00388711, -86.36356354],\n",
    "    [ 37.00405472, -86.36352621],\n",
    "    [ 37.00423763, -86.36348621],\n",
    "    [ 37.00437129, -86.36338074],\n",
    "    [ 37.00448184, -86.36323899],\n",
    "    [ 37.00457515, -86.36307953],\n",
    "    [ 37.0047012 , -86.36286956],\n",
    "    [ 37.00486024, -86.36273924],\n",
    "    [ 37.00505061, -86.36270756],\n",
    "    [ 37.00527945, -86.36272947],\n",
    "    [ 37.00548802, -86.36263566],\n",
    "    [ 37.00565341, -86.36245496],\n",
    "    [ 37.00573513, -86.3621647 ],\n",
    "    [ 37.00568611, -86.36182869],\n",
    "    [ 37.00548782, -86.36157939],\n",
    "    [ 37.0052881 , -86.36149696],\n",
    "    [ 37.00511652, -86.36149669],\n",
    "    [ 37.0049746 , -86.36158761],\n",
    "    [ 37.00485989, -86.3616726 ],\n",
    "    [ 37.00469955, -86.3617696 ],\n",
    "    [ 37.00451492, -86.36178471],\n",
    "    [ 37.00435852, -86.36173599],\n",
    "    [ 37.00419576, -86.36162316],\n",
    "    [ 37.00409127, -86.36146652],\n",
    "    [ 37.00404463, -86.3612301 ],\n",
    "    [ 37.00407232, -86.36097832],\n",
    "    [ 37.00415922, -86.36078578],\n",
    "    [ 37.00426711, -86.36066944],\n",
    "    [ 37.00439509, -86.36060407],\n",
    "    [ 37.00452844, -86.36057503],\n",
    "    [ 37.00466778, -86.36054604],\n",
    "    [ 37.004833  , -86.36050987],\n",
    "    [ 37.00499495, -86.36047743],\n",
    "    [ 37.00514229, -86.36044484],\n",
    "    [ 37.00524902, -86.36041601],\n",
    "    [ 37.00541074, -86.36037856],\n",
    "    [ 37.00558676, -86.36034575],\n",
    "    [ 37.00578957, -86.36038183],\n",
    "    [ 37.00596102, -86.36045445],\n",
    "    [ 37.00607154, -86.36065091],\n",
    "    [ 37.0061651 , -86.36090615],\n",
    "    [ 37.00626234, -86.3611639 ],\n",
    "    [ 37.00637312, -86.36147776],\n",
    "    [ 37.00642557, -86.36179897],\n",
    "    [ 37.00644459, -86.36216748],\n",
    "    [ 37.00637929, -86.36250433],\n",
    "    [ 37.00629836, -86.36273906],\n",
    "    [ 37.00622229, -86.36291634],\n",
    "    [ 37.00611158, -86.36309997],\n",
    "    [ 37.00600738, -86.36323379],\n",
    "    [ 37.00589169, -86.3633461 ],\n",
    "    [ 37.00576471, -86.36344689],\n",
    "    [ 37.00564905, -86.36353398],\n",
    "    [ 37.00551878, -86.36359932],\n",
    "    [ 37.00537978, -86.36365448],\n",
    "    [ 37.00525188, -86.36370605],\n",
    "    [ 37.0051236 , -86.36376501],\n",
    "    [ 37.00497727, -86.36382802],\n",
    "    [ 37.00484855, -86.36391978],\n",
    "    [ 37.00471266, -86.36403361],\n",
    "    [ 37.0045783 , -86.36422396],\n",
    "    [ 37.00447907, -86.36439954],\n",
    "    [ 37.00435695, -86.36453807],\n",
    "    [ 37.00424813, -86.36465022],\n",
    "    [ 37.00411061, -86.36480228],\n",
    "    [ 37.00397977, -86.36492984],\n",
    "    [ 37.0038682 , -86.36504946],\n",
    "    [ 37.00376295, -86.36516126],\n",
    "    [ 37.00365436, -86.36527329],\n",
    "    [ 37.00354759, -86.36539144],\n",
    "    [ 37.00341675, -86.36552332],\n",
    "    [ 37.00329206, -86.3656715 ],\n",
    "    [ 37.00316095, -86.36581567],\n",
    "    [ 37.00303256, -86.36594441],\n",
    "    [ 37.00291203, -86.36607157],\n",
    "    [ 37.00278014, -86.36622802],\n",
    "    [ 37.00269333, -86.36641303],\n",
    "    [ 37.00260606, -86.36659437],\n",
    "    [ 37.00252845, -86.36675984],\n",
    "    [ 37.00243487, -86.36695271],\n",
    "    [ 37.00234795, -86.36716654],\n",
    "    [ 37.00226102, -86.36735999],\n",
    "    [ 37.00218046, -86.36754144],\n",
    "    [ 37.00210026, -86.36771854],\n",
    "    [ 37.00202358, -86.36787901],\n",
    "    [ 37.00194406, -86.36806693],\n",
    "    [ 37.00185835, -86.36825428],\n",
    "    [ 37.00177578, -86.36843604],\n",
    "    [ 37.00169902, -86.36860048],\n",
    "    [ 37.0016732 , -86.3687928 ],\n",
    "    [ 37.001679  , -86.3689974 ],\n",
    "    [ 37.00168488, -86.36919051],\n",
    "    [ 37.00169122, -86.36938766],\n",
    "    [ 37.00169469, -86.3695562 ],\n",
    "    [ 37.00170118, -86.36974238],\n",
    "    [ 37.00171055, -86.36993991],\n",
    "    [ 37.00167198, -86.37010864],\n",
    "    [ 37.00158558, -86.37021273],\n",
    "    [ 37.00148934, -86.37030898],\n",
    "    [ 37.00139295, -86.37041757],\n",
    "    [ 37.00129011, -86.37051816],\n",
    "    [ 37.00120286, -86.37061913],\n",
    "    [ 37.00112253, -86.37073184],\n",
    "    [ 37.00106144, -86.37085264],\n",
    "    [ 37.00099678, -86.37100197],\n",
    "    [ 37.00092255, -86.37116696],\n",
    "    [ 37.00083249, -86.37137665],\n",
    "    [ 37.00073506, -86.37159438],\n",
    "    [ 37.00065426, -86.37177611],\n",
    "    [ 37.00057398, -86.37196168],\n",
    "    [ 37.00060097, -86.37214635],\n",
    "    [ 37.00074272, -86.37221467],\n",
    "    [ 37.0009059 , -86.37222018],\n",
    "    [ 37.00107657, -86.37218846],\n",
    "    [ 37.00122503, -86.37211976],\n",
    "    [ 37.00133803, -86.37204677],\n",
    "    [ 37.00145467, -86.37192099],\n",
    "    [ 37.00156457, -86.37178347],\n",
    "    [ 37.00167114, -86.37162599],\n",
    "    [ 37.00176434, -86.37145299],\n",
    "    [ 37.00183833, -86.37126821],\n",
    "    [ 37.00188646, -86.37112396],\n",
    "    [ 37.0019441 , -86.37095574],\n",
    "    [ 37.00197296, -86.370787  ],\n",
    "    [ 37.00202945, -86.37067751],\n",
    "    [ 37.00209668, -86.37048098],\n",
    "    [ 37.00218305, -86.37031655],\n",
    "    [ 37.00228558, -86.37016005],\n",
    "    [ 37.00238818, -86.37002764],\n",
    "    [ 37.00249377, -86.36991909],\n",
    "    [ 37.00259639, -86.36983868],\n",
    "    [ 37.00270864, -86.36976266],\n",
    "    [ 37.00281411, -86.3697033 ],\n",
    "    [ 37.00292264, -86.36964769],\n",
    "    [ 37.00303847, -86.369599  ],\n",
    "    [ 37.00316942, -86.36952703],\n",
    "    [ 37.00332578, -86.36939126],\n",
    "    [ 37.00342743, -86.36921198],\n",
    "    [ 37.00346211, -86.36901195],\n",
    "    [ 37.00343231, -86.36879509],\n",
    "    [ 37.00336736, -86.36861758],\n",
    "    [ 37.00327983, -86.36847602],\n",
    "    [ 37.00316589, -86.36828932],\n",
    "    [ 37.00305696, -86.36810259],\n",
    "    [ 37.00296937, -86.36793662],\n",
    "    [ 37.00293802, -86.36773416],\n",
    "    [ 37.00295792, -86.36753614],\n",
    "    [ 37.00301643, -86.36739089],\n",
    "    [ 37.00307192, -86.36724611],\n",
    "    [ 37.00312788, -86.36711056],\n",
    "    [ 37.00320856, -86.36698638],\n",
    "    [ 37.00331523, -86.36684361],\n",
    "    [ 37.00340519, -86.36672019],\n",
    "    [ 37.00350264, -86.36658791],\n",
    "    [ 37.00361135, -86.36649982],\n",
    "    [ 37.00374245, -86.36645177],\n",
    "    [ 37.00387034, -86.3664758 ],\n",
    "    [ 37.00395668, -86.36655587],\n",
    "    [ 37.00402368, -86.36670753],\n",
    "    [ 37.00407807, -86.36686779],\n",
    "    [ 37.00412607, -86.36701603],\n",
    "    [ 37.00418686, -86.36718831],\n",
    "    [ 37.00427315, -86.36742386],\n",
    "    [ 37.00436296, -86.3676927 ],\n",
    "    [ 37.00442144, -86.36790543],\n",
    "    [ 37.00445858, -86.36815496],\n",
    "    [ 37.00447715, -86.36847342],\n",
    "    [ 37.00444541, -86.36882644],\n",
    "    [ 37.00434238, -86.36911386],\n",
    "    [ 37.00425654, -86.36927291],\n",
    "    [ 37.00418289, -86.36939303],\n",
    "    [ 37.00410293, -86.36950912],\n",
    "    [ 37.00399731, -86.36962489],\n",
    "    [ 37.00390147, -86.36973254],\n",
    "    [ 37.00379293, -86.36984054],\n",
    "    [ 37.00369701, -86.36994104],\n",
    "    [ 37.00359474, -86.37004514],\n",
    "    [ 37.0034838 , -86.3701598 ],\n",
    "    [ 37.00338477, -86.37024376],\n",
    "    [ 37.00327609, -86.37032788],\n",
    "    [ 37.00318982, -86.37040789],\n",
    "    [ 37.00306205, -86.37049992],\n",
    "    [ 37.00294389, -86.37059192],\n",
    "    [ 37.00283177, -86.37070006],\n",
    "    [ 37.00272312, -86.37083897],\n",
    "    [ 37.00264003, -86.37094293],\n",
    "    [ 37.00255683, -86.37103895],\n",
    "    [ 37.00249914, -86.37115127],\n",
    "    [ 37.00243497, -86.37126771],\n",
    "    [ 37.00236746, -86.3713964 ],\n",
    "    [ 37.00230001, -86.37152106],\n",
    "    [ 37.00223561, -86.37164596],\n",
    "    [ 37.00217132, -86.37175865],\n",
    "    [ 37.0021135 , -86.37187932],\n",
    "    [ 37.00204601, -86.37200003],\n",
    "    [ 37.00196791, -86.37211434],\n",
    "    [ 37.00188761, -86.3722312 ],\n",
    "    [ 37.00180726, -86.37233202],\n",
    "    [ 37.00173651, -86.37241676],\n",
    "    [ 37.00165284, -86.37250555],\n",
    "    [ 37.00155067, -86.3726109 ],\n",
    "    [ 37.00144762, -86.37271211],\n",
    "    [ 37.00136704, -86.37279282],\n",
    "    [ 37.00126713, -86.37288565],\n",
    "    [ 37.00115123, -86.37299929],\n",
    "    [ 37.00103518, -86.37310829],\n",
    "    [ 37.0009191 , -86.37321738],\n",
    "    [ 37.00082561, -86.37329809],\n",
    "    [ 37.00072863, -86.37339546],\n",
    "    [ 37.00061364, -86.37350099],\n",
    "    [ 37.00051698, -86.37360214],\n",
    "    [ 37.00042667, -86.37368311],\n",
    "    [ 37.00032338, -86.37378434],\n",
    "    [ 37.00022342, -86.37387665],\n",
    "    [ 37.00012018, -86.3739737 ],\n",
    "    [ 37.00002051, -86.37405916],\n",
    "    [ 36.99991404, -86.37415222],\n",
    "    [ 36.99981076, -86.37423248],\n",
    "    [ 36.99970432, -86.37430523],\n",
    "    [ 36.99958169, -86.37432571],\n",
    "    [ 36.99946928, -86.37430399],\n",
    "    [ 36.99934964, -86.37428072],\n",
    "    [ 36.99922365, -86.37425686],\n",
    "    [ 36.99908793, -86.37422888],\n",
    "    [ 36.99899069, -86.37413638],\n",
    "    [ 36.99896465, -86.37397888],\n",
    "    [ 36.9989808 , -86.37380904],\n",
    "    [ 36.99900664, -86.37362303],\n",
    "    [ 36.99904589, -86.37342887],\n",
    "    [ 36.9990885 , -86.37323096],\n",
    "    [ 36.99912743, -86.3730292 ],\n",
    "    [ 36.99916641, -86.37284378],\n",
    "    [ 36.99921127, -86.37261758],\n",
    "    [ 36.99924349, -86.37245211],\n",
    "    [ 36.99932082, -86.37230251],\n",
    "    [ 36.99932082, -86.37230251],\n",
    "    [ 36.99940337, -86.37214797],\n",
    "    [ 36.99948814, -86.37199725],\n",
    "    [ 36.99958754, -86.37189043],\n",
    "    [ 36.99970528, -86.37178738],\n",
    "    [ 36.99982625, -86.37169183],\n",
    "    [ 36.99997073, -86.37159181],\n",
    "    [ 37.00011471, -86.3714889 ],\n",
    "    [ 37.00027357, -86.37138907],\n",
    "    [ 37.0003852 , -86.37123775],\n",
    "    [ 37.00042033, -86.37099884],\n",
    "    [ 37.00038811, -86.3707825 ],\n",
    "    [ 37.00031195, -86.37062837],\n",
    "    [ 37.00026491, -86.37041498],\n",
    "    [ 37.00030254, -86.37020247],\n",
    "    [ 37.00038472, -86.3700261 ],\n",
    "    [ 37.0004699 , -86.36984594],\n",
    "    [ 37.00056383, -86.36964375],\n",
    "    [ 37.00064015, -86.3694857 ],\n",
    "    [ 37.00070993, -86.36934481],\n",
    "    [ 37.0008098 , -86.36912411],\n",
    "    [ 37.00090662, -86.36891836],\n",
    "    [ 37.00098578, -86.36874579],\n",
    "    [ 37.00107373, -86.36854755]\n",
    "  ]\n",
    "\n",
    "coords = reverse_coords[::-1] # coordinates in the correct order; starting coordinate goes first"
   ]
  },
  {
   "cell_type": "markdown",
   "id": "421dde66-8fc8-4315-9200-dd806ec24a86",
   "metadata": {
    "jp-MarkdownHeadingCollapsed": true
   },
   "source": [
    "## GIS Object"
   ]
  },
  {
   "cell_type": "code",
   "execution_count": 3,
   "id": "68f16c34-e5a1-4db6-9031-79559467091c",
   "metadata": {},
   "outputs": [],
   "source": [
    "from physics.environment.gis.gis import GIS\n",
    "from physics.environment.gis.gis import calculate_path_distances\n",
    "import numpy as np\n",
    "\n",
    "# Defining dictionary \"route_data\"\n",
    "\n",
    "total_track_length = 5033.62413471853 # m\n",
    "\n",
    "route_data = {\n",
    "    \"path\" : coords,\n",
    "    \"elevations\" : np.zeros(len(coords)),\n",
    "    \"time_zones\" : np.zeros(len(coords)),\n",
    "    \"num_unique_coords\" : (len(coords) - 1) }\n",
    "\n",
    "# Creating GIS object\n",
    "\n",
    "starting_coords = [37.00107373, -86.36854755]\n",
    "\n",
    "gis = GIS(route_data, starting_coords, current_coord = starting_coords)"
   ]
  },
  {
   "cell_type": "markdown",
   "id": "d465c30f-6192-4bbf-b840-e534dd4d3eea",
   "metadata": {},
   "source": [
    "## Defining Functions"
   ]
  },
  {
   "cell_type": "code",
   "execution_count": 4,
   "id": "6845428a-4131-4202-b1af-42f487a64071",
   "metadata": {},
   "outputs": [],
   "source": [
    "from scipy import integrate as intg\n",
    "import matplotlib.pyplot as plt\n",
    "from datetime import datetime, timedelta, timezone\n",
    "\n",
    "\n",
    "# Calculates the distance covered in a given TimeSeries velocity array. It can either return the value or print the information\n",
    "def distance_covered(vel: TimeSeries, expected: int = 3.2, save = False):\n",
    "    dist_m = intg.simpson(vel) # integrate to find distance in m\n",
    "    distance_mi = dist_m/(1609.344) # convert to miles\n",
    "    if save:\n",
    "        return distance_mi\n",
    "    else:\n",
    "        print(f\"Distance is {distance_mi:.2f} mi. Expected is 3.2 mi.\")\n",
    "        print(f\"Difference with expected is {distance_mi-3.2:.4f} mi\")\n",
    "\n",
    "# Calculates the net distance covered in a specified lap number\n",
    "def distance_covered_lap(lap_num: int):\n",
    "    start = day.get_start_utc(lap_num)\n",
    "    stop = day.get_finish_utc(lap_num)\n",
    "    start_time = datetime.strptime(start, \"%Y-%m-%dT%H:%M:%SZ\").replace(tzinfo=timezone.utc)\n",
    "    end_time = datetime.strptime(stop, \"%Y-%m-%dT%H:%M:%SZ\").replace(tzinfo=timezone.utc)\n",
    "    vel: TimeSeries = client.query_time_series(start_time, end_time, \"VehicleVelocity\", granularity = 1,  units=\"m/s\")\n",
    "    dist_m = intg.simpson(vel) # distance in meters\n",
    "    return dist_m\n",
    "\n",
    "# Once you already have a lap number and a velocity array, it calculates the distance you have covered\n",
    "def distance_so_far(start: datetime, stop: datetime, vel_lap: TimeSeries):\n",
    "    difference = int(stop.timestamp() - start.timestamp())\n",
    "    if difference == len(vel_lap):\n",
    "        vel = vel_lap\n",
    "    else:\n",
    "        vel = vel_lap[0: difference]\n",
    "    dist_m = intg.simpson(vel)\n",
    "    return dist_m\n",
    "\n",
    "# Once you specify the day and lap, returns the indices of the coordinates covered\n",
    "def get_indices(lap: int, day: int):\n",
    "    start = day.get_start_utc(lap) \n",
    "    end = day.get_finish_utc(lap)\n",
    "    start_time = datetime.strptime(start, \"%Y-%m-%dT%H:%M:%SZ\").replace(tzinfo=timezone.utc)\n",
    "    end_time = datetime.strptime(end, \"%Y-%m-%dT%H:%M:%SZ\").replace(tzinfo=timezone.utc)\n",
    "    velocity = client.query_time_series(start_time, end_time, \"VehicleVelocity\", granularity = 1,  units=\"m/s\")\n",
    "    total_lap_distance = intg.simpson(velocity)\n",
    "    distances = np.zeros(len(velocity))\n",
    "    for i in range(len(velocity)):\n",
    "        end = start_time + timedelta(seconds=i+1)  # i+1 to match your second increment logic\n",
    "        distance = distance_so_far(start_time, end, velocity)\n",
    "        distance_proportion = (distance / total_lap_distance) * total_track_length\n",
    "        distances[i] = distance_proportion\n",
    "        \n",
    "    indices = np.zeros(len(distances), dtype = int)\n",
    "    for i in range(len(distances)):\n",
    "        indices[i] = gis.calculate_closest_gis_indices(np.array(distances[i]))[0]\n",
    "\n",
    "    return indices\n",
    "\n",
    "# Once you specify the day and lap, returns the corresponding speed array\n",
    "def get_speeds(lap:int, day:int):\n",
    "    start = day.get_start_utc(lap) \n",
    "    end = day.get_finish_utc(lap)\n",
    "    start_time = datetime.strptime(start, \"%Y-%m-%dT%H:%M:%SZ\").replace(tzinfo=timezone.utc)\n",
    "    end_time = datetime.strptime(end, \"%Y-%m-%dT%H:%M:%SZ\").replace(tzinfo=timezone.utc)\n",
    "    \n",
    "    return client.query_time_series(start_time, end_time, \"VehicleVelocity\", granularity = 1,  units=\"m/s\")\n",
    "    \n",
    "    "
   ]
  },
  {
   "cell_type": "markdown",
   "id": "b397b91b-2cb5-4912-884e-dd45c62676f1",
   "metadata": {},
   "source": [
    "## Finding Max Speed at Every Coordinate"
   ]
  },
  {
   "cell_type": "markdown",
   "id": "9a2b6e06-46e7-4680-b11b-3ee426566b72",
   "metadata": {},
   "source": [
    "The strategy here is as follows: I have a the speed of our car at every point during the race. I also know where the car was at every point during the race. I want to find the maximum speed achieved at every location, which will allow me to impose better speed limits. First, I will get all of the coordinates that were crossed during Day 1 and Day 3. I will then find the speed at each of those coordinates, and create a dictionary of coordinates and speeds that only keeps the highest value of the speed corresponding to a specific coordinate."
   ]
  },
  {
   "cell_type": "markdown",
   "id": "1ed98082-d5b6-4e56-b44e-c8cec30cb878",
   "metadata": {},
   "source": [
    "### Getting Coordinates"
   ]
  },
  {
   "cell_type": "markdown",
   "id": "8f503a03-9620-456d-88cc-659bece516af",
   "metadata": {},
   "source": [
    "For information about where the coordinates come from, see documentation on Localize FSGP Data. "
   ]
  },
  {
   "cell_type": "code",
   "execution_count": 5,
   "id": "deba14a5-0549-48c5-824e-2fbd892b2016",
   "metadata": {},
   "outputs": [],
   "source": [
    "coords_day1 = np.load('coords_day1.npy')\n",
    "coords_day3 = np.load('coords_day3.npy')"
   ]
  },
  {
   "cell_type": "markdown",
   "id": "4b30efde-6ae3-41ad-9b9e-117b9131ff09",
   "metadata": {},
   "source": [
    "### Getting Speeds - Day 1"
   ]
  },
  {
   "cell_type": "code",
   "execution_count": 6,
   "id": "d11286c4-57ec-4ceb-a668-5f168fa34064",
   "metadata": {},
   "outputs": [],
   "source": [
    "# Constants\n",
    "day_num = 1\n",
    "day = FSGPDayLaps(day_num)\n",
    "num_laps = day.get_lap_count()"
   ]
  },
  {
   "cell_type": "code",
   "execution_count": 7,
   "id": "d48db0dd-8dda-438c-a3f4-d1603d829bc5",
   "metadata": {},
   "outputs": [],
   "source": [
    "speeds_day1 = []\n",
    "for i in range(num_laps):\n",
    "    if (i+1)==28:\n",
    "        nan_speeds = [np.nan] * 1065\n",
    "        speeds_day1.extend(nan_speeds)\n",
    "        continue\n",
    "    elif (i+1) == 29:\n",
    "        continue\n",
    "    elif (i+1) ==32:\n",
    "        nan_speeds = [np.nan] * 1417\n",
    "        speeds_day1.extend(nan_speeds)\n",
    "        continue\n",
    "    elif (i+1) == 33:\n",
    "        continue\n",
    "    else:\n",
    "        speeds_day1.extend(get_speeds(i+1, day))"
   ]
  },
  {
   "cell_type": "markdown",
   "id": "b6dfae8e-ceba-4e00-973f-99b8653151ed",
   "metadata": {},
   "source": [
    "### Getting Speeds - Day 3"
   ]
  },
  {
   "cell_type": "code",
   "execution_count": 8,
   "id": "7999219a-47d2-4fb4-91d6-bc18cedbfa1e",
   "metadata": {},
   "outputs": [],
   "source": [
    "# Constants\n",
    "day_num = 3\n",
    "day = FSGPDayLaps(day_num)\n",
    "num_laps = day.get_lap_count()"
   ]
  },
  {
   "cell_type": "code",
   "execution_count": 9,
   "id": "67b1c212-8de3-4a14-bd15-b5f4eff4e5b9",
   "metadata": {},
   "outputs": [],
   "source": [
    "speeds_day3 = []\n",
    "for i in range(num_laps):\n",
    "    if (i+1)==26:\n",
    "        nan_speeds = [np.nan] * 1343\n",
    "        speeds_day3.extend(nan_speeds)\n",
    "    elif (i+1) == 27:\n",
    "        continue\n",
    "    elif (i+1) ==46:\n",
    "        nan_speeds = [np.nan] * 2256\n",
    "        speeds_day3.extend(nan_speeds)\n",
    "    elif (i+1) == 47:\n",
    "        continue\n",
    "    else:\n",
    "        speeds_day3.extend(get_speeds(i+1, day))"
   ]
  },
  {
   "cell_type": "markdown",
   "id": "5eca33ed-de73-497b-82d7-e452869984a9",
   "metadata": {},
   "source": [
    "A clarification I would like to make, is that the reason why I set some of the speeds to be nan is so that the speed arrays match the coordinate arrays. To be more clear, during the race there were some laps where we pitted, laps at which it was difficult/not very useful to estimate the car's location. To indicate that the data during that time period should not be used, I decided to set the values of the coordinate arrays at those times to be nan."
   ]
  },
  {
   "cell_type": "markdown",
   "id": "1aca5abf-b84c-4f41-8b04-c6be11b08f03",
   "metadata": {},
   "source": [
    "## Dictionary of Maximum Speeds"
   ]
  },
  {
   "cell_type": "markdown",
   "id": "7ba23960-ef9f-4967-b57b-13e230d78f55",
   "metadata": {},
   "source": [
    "Now that I have all of the coordinates, and all of the speeds, I proceed to create the dictionary that keeps the information of the maximal speed at every coordinate in the track."
   ]
  },
  {
   "cell_type": "code",
   "execution_count": 10,
   "id": "0aad99a2-ba02-410f-9475-1d9f7a3f4220",
   "metadata": {},
   "outputs": [],
   "source": [
    "import numpy as np\n",
    "\n",
    "#Function to create the dictionary\n",
    "def max_velocity_per_coordinate(coordinates, velocities):\n",
    "    # Dictionary to store the maximum velocity for each coordinate\n",
    "    max_velocity_map = {}\n",
    "\n",
    "    # Iterate over coordinates and corresponding velocities\n",
    "    for coord, vel in zip(coordinates, velocities):\n",
    "        # Skip if the velocity is NaN or if any element of the coordinate is NaN\n",
    "        if np.isnan(vel) or np.any(np.isnan(coord)):\n",
    "            continue\n",
    "\n",
    "        # Convert the coordinate to a tuple (hashable)\n",
    "        coord_tuple = tuple(coord)\n",
    "\n",
    "        if coord_tuple in max_velocity_map:\n",
    "            # Update the maximum velocity if the current velocity is greater\n",
    "            max_velocity_map[coord_tuple] = max(max_velocity_map[coord_tuple], vel)\n",
    "        else:\n",
    "            # Add the coordinate with the current velocity\n",
    "            max_velocity_map[coord_tuple] = vel\n",
    "\n",
    "    return max_velocity_map\n",
    "\n",
    "# Creating arrays of all the coordinates and speeds of Day 1 and Day 3\n",
    "total_coords = np.concatenate((coords_day1, coords_day3))\n",
    "total_speeds = np.concatenate((speeds_day1, speeds_day3))\n",
    "\n",
    "# Creating the dictionary\n",
    "result = max_velocity_per_coordinate(total_coords, total_speeds)\n"
   ]
  },
  {
   "cell_type": "code",
   "execution_count": 11,
   "id": "76cb275b-d1de-48a7-854e-8f40a5c684fa",
   "metadata": {},
   "outputs": [],
   "source": [
    "# Making the result easier to visualize\n",
    "\n",
    "cleaned_result = {\n",
    "    tuple(map(float, key)): float(value)\n",
    "    for key, value in result.items()\n",
    "}"
   ]
  },
  {
   "cell_type": "markdown",
   "id": "72618dc1-346a-4133-bb93-c54190b8b5d6",
   "metadata": {},
   "source": [
    "## Creating Speed Limits"
   ]
  },
  {
   "cell_type": "markdown",
   "id": "1293fe7c-3d36-4c5f-adfa-2cfe9bb15a6b",
   "metadata": {},
   "source": [
    "To give some context, the way the speed limits work in Simulation is as follows: instead of having a speed limit array where each point corresponds to a coordinate, we have a very long array that gets repeated multiple times. This is because the constrain_speed_limits Rust function uses the distance as some form of indexing, so it essentially constrains the speed for the entire race (which has a great number of laps) at once. As such, you need to have a very long array, one that has enough speed limits to cover every lap in the race. To give a bit of a visualization, imagine your speed limits for a single lap were these [2, 3, 4]. If you were projecting to race for 3 laps, then the array you would create is this one [2, 3, 4, 2, 3, 4, 2, 3, 4]. Hopefully now some of the things I proceed to do make more sense."
   ]
  },
  {
   "cell_type": "code",
   "execution_count": 12,
   "id": "8f07e66f-e531-4a49-a6a5-281502f61ea0",
   "metadata": {},
   "outputs": [],
   "source": [
    "# Grabbing all the maximum speeds, not in order\n",
    "\n",
    "speed_limit_array = [cleaned_result[coord] for coord in cleaned_result.keys()]\n",
    "\n",
    "# I want to have the speed limits in order. That is, the speed limit corresponding to the start coordinate goes first, and so on.\n",
    "\n",
    "ordered_speed_limit_array_meters = speed_limit_array[21:] + speed_limit_array[:21]\n",
    "\n",
    "ordered_speed_limit_array_kms = [x * 3.6 for x in ordered_speed_limit_array_meters] # transforming from m/s to km/hr in entire array"
   ]
  },
  {
   "cell_type": "code",
   "execution_count": 13,
   "id": "6bf76c77-0fb9-4b9d-8aa2-cddf2923b744",
   "metadata": {},
   "outputs": [],
   "source": [
    "# Saving arrays as npz\n",
    "\n",
    "np.savez('fixed_speed_constraints.npz', data=ordered_speed_limit_array_kms)\n",
    "\n",
    "\n",
    "# I saved the array with wrong units for the purpose of trying out some smaller speed limits to see how the speeds got constrained \n",
    "# np.savez('fixed_speed_constraints_wrong_units.npz', data=ordered_speed_limit_array_meters)"
   ]
  },
  {
   "cell_type": "code",
   "execution_count": 14,
   "id": "c76338ab-6f1f-4a07-9a46-5116fc99d997",
   "metadata": {},
   "outputs": [],
   "source": [
    "## Downloading the Speed Limit Array"
   ]
  },
  {
   "cell_type": "code",
   "execution_count": 15,
   "id": "23a52ea6-4410-4a5f-8be6-058172de2c18",
   "metadata": {},
   "outputs": [
    {
     "data": {
      "text/html": [
       "<a href='fixed_speed_constraints.npz' target='_blank'>fixed_speed_constraints.npz</a><br>"
      ],
      "text/plain": [
       "C:\\Users\\mikel\\data_analysis\\fixed_speed_constraints.npz"
      ]
     },
     "execution_count": 15,
     "metadata": {},
     "output_type": "execute_result"
    }
   ],
   "source": [
    "from IPython.display import FileLink\n",
    "FileLink(r'fixed_speed_constraints.npz')"
   ]
  },
  {
   "cell_type": "code",
   "execution_count": 16,
   "id": "c2afdebf-6bfc-42d5-bdcb-1d6d4ccbe536",
   "metadata": {},
   "outputs": [],
   "source": [
    "# FileLink(r'fixed_speed_constraints_wrong_units.npz')"
   ]
  },
  {
   "cell_type": "markdown",
   "id": "ba2795d4-ad95-4c4b-ad11-1cd4ae4efeb2",
   "metadata": {},
   "source": [
    "## Speed Heat Map"
   ]
  },
  {
   "cell_type": "markdown",
   "id": "73b2663d-ab86-4d2c-bd5f-a256465d7b93",
   "metadata": {},
   "source": [
    "Over here I just create a speed heat map where I show what the maximum speed achieved was at every point of the track. This serves as a bit of a sanity check to make sure that the values I used make sense."
   ]
  },
  {
   "cell_type": "code",
   "execution_count": 17,
   "id": "046dfe93-1360-4b69-833d-b983dbf971b8",
   "metadata": {},
   "outputs": [
    {
     "data": {
      "image/png": "[encoded data removed]",
      "text/plain": [
       "<Figure size 800x600 with 2 Axes>"
      ]
     },
     "metadata": {},
     "output_type": "display_data"
    }
   ],
   "source": [
    "import matplotlib.pyplot as plt\n",
    "from matplotlib.collections import LineCollection\n",
    "\n",
    "# Separating the coordinates into x and y components\n",
    "x_coords = [coord[1] for coord in coords]\n",
    "y_coords = [coord[0] for coord in coords]\n",
    "\n",
    "# Create an array of points from the coordinates\n",
    "points = np.array([x_coords, y_coords]).T.reshape(-1, 1, 2)\n",
    "\n",
    "# Create segments by connecting the points\n",
    "segments = np.concatenate([points[:-1], points[1:]], axis=1)\n",
    "\n",
    "# Normalize the velocity values for the color map\n",
    "norm = plt.Normalize(min(ordered_speed_limit_array_meters), max(ordered_speed_limit_array_meters))\n",
    "\n",
    "# Create a LineCollection, where each segment is colored based on the velocity\n",
    "lc = LineCollection(segments, cmap='gnuplot', norm=norm, linewidth=3)\n",
    "\n",
    "# Set the color of each segment based on the velocity values\n",
    "lc.set_array(np.array(ordered_speed_limit_array_meters))\n",
    "\n",
    "# Create a plot\n",
    "plt.figure(figsize=(8, 6))\n",
    "plt.gca().add_collection(lc)\n",
    "plt.plot(x_coords, y_coords, linestyle='None')  # Plot points without connecting them\n",
    "plt.gca().get_yaxis().get_major_formatter().set_useOffset(False)\n",
    "\n",
    "# Add a color bar to show the velocity scale\n",
    "plt.colorbar(lc, label='Velocity (m/s)')\n",
    "\n",
    "# Add labels, grid, and title\n",
    "plt.xlabel('X Coordinate')\n",
    "plt.ylabel('Y Coordinate')\n",
    "plt.title(f'Max Speed At Every Point in the Track')\n",
    "plt.grid(True)\n",
    "\n",
    "\n",
    "# Adjust the axis limits to fit the track\n",
    "plt.xlim(min(x_coords) - 0.0002, max(x_coords) + 0.0002)\n",
    "plt.ylim(min(y_coords) - 0.0002, max(y_coords) + 0.0002)\n",
    "\n",
    "# Optionally, highlight the starting point\n",
    "plt.scatter(x_coords[0], y_coords[0], color='red', s=200, marker='*', label='Start Point')\n",
    "\n",
    "# Add a legend and show the plot\n",
    "plt.legend()\n",
    "plt.show()"
   ]
  }
 ],
 "metadata": {
  "kernelspec": {
   "display_name": "Python 3 (ipykernel)",
   "language": "python",
   "name": "python3"
  },
  "language_info": {
   "codemirror_mode": {
    "name": "ipython",
    "version": 3
   },
   "file_extension": ".py",
   "mimetype": "text/x-python",
   "name": "python",
   "nbconvert_exporter": "python",
   "pygments_lexer": "ipython3",
   "version": "3.12.6"
  }
 },
 "nbformat": 4,
 "nbformat_minor": 5
}
